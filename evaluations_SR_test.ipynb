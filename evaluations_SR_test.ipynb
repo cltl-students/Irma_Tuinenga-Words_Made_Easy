{
 "cells": [
  {
   "cell_type": "markdown",
   "id": "22097079-bddc-4066-bcd6-981db0cde8bc",
   "metadata": {},
   "source": [
    "## TEST set: Substitute Ranking (SR) step:"
   ]
  },
  {
   "cell_type": "code",
   "execution_count": null,
   "id": "2f9dc01e-b6a2-4bad-b8b2-239fe87d6d45",
   "metadata": {},
   "outputs": [],
   "source": [
    "from utils_test import *"
   ]
  },
  {
   "cell_type": "code",
   "execution_count": null,
   "id": "3479c2a3-165d-4e5b-82b7-db6d93cfc16c",
   "metadata": {},
   "outputs": [],
   "source": [
    "prediction = './predictions/test/SS_phase2_option3f_BSrobertalarge_robertabase.tsv'"
   ]
  },
  {
   "cell_type": "markdown",
   "id": "4454b1ac-2796-4d96-88e9-e9f2324e7ad2",
   "metadata": {},
   "source": [
    "### With hypernym-hyponym relations:\n",
    "\n",
    "The code below corresponds to the results presented in sections 5.1 and 5.2 of the thesis, for the model that incorporated the SR step with 2 level up hypernym-hyponym relations. "
   ]
  },
  {
   "cell_type": "code",
   "execution_count": 3,
   "id": "43420a26-5435-4bac-9cd3-00988160ce5a",
   "metadata": {},
   "outputs": [
    {
     "name": "stdout",
     "output_type": "stream",
     "text": [
      "SS_no3_SR_option1_Hyper2-Hypo_robertabase exported to path './predictions/test/SS_no3_SR_option1_Hyper2-Hypo_robertabase.tsv'\n",
      "\n"
     ]
    }
   ],
   "source": [
    "substitute_ranking_option1_hyper(prediction, levels = [2])"
   ]
  },
  {
   "cell_type": "markdown",
   "id": "7675e2dd-6e0d-4bcc-8d0e-c44bca49552e",
   "metadata": {},
   "source": [
    "python tsar_eval.py --gold_file ./data/test/tsar2022_en_test_gold_no_noise.tsv --predictions_file ./predictions/test/SS_no3_SR_option1_Hyper2-Hypo_robertabase.tsv --output_file ./output/test/SS_no3_SR_option1_Hyper2-Hypo_robertabase.tsv"
   ]
  },
  {
   "cell_type": "raw",
   "id": "0a8855f9-256f-4b81-9922-1e674ef40e5e",
   "metadata": {},
   "source": [
    "=========   EVALUATION config.=========\n",
    "GOLD file = ./data/test/tsar2022_en_test_gold_no_noise.tsv\n",
    "PREDICTION LABELS file = ./predictions/test/SS_no3_SR_option1_Hyper2-Hypo_robertabase.tsv\n",
    "OUTPUT file = ./output/test/SS_no3_SR_option1_Hyper2-Hypo_robertabase.tsv\n",
    "===============   RESULTS  =============\n",
    "\n",
    "MAP@1/Potential@1/Precision@1 = 0.6075\n",
    "\n",
    "MAP@3 = 0.4205\n",
    "MAP@5 = 0.3244\n",
    "MAP@10 = 0.2023\n",
    "\n",
    "Potential@3 = 0.8521\n",
    "Potential@5 = 0.9274\n",
    "Potential@10 = 0.9677\n",
    "\n",
    "Accuracy@1@top_gold_1 = 0.25\n",
    "Accuracy@2@top_gold_1 = 0.3736\n",
    "Accuracy@3@top_gold_1 = 0.4596"
   ]
  },
  {
   "cell_type": "markdown",
   "id": "3fb30bf3-6588-409c-b7dd-f00c233ce002",
   "metadata": {},
   "source": [
    "#### Results:\n",
    "Based on the accumulated scores, as well as on ACC@1 scores, this is the second best model on the test set:\n",
    "\n",
    "- SS_no3_SR_option1_Hyper2-Hypo_robertabase (accum. score: 5.3851. ACC@1 score: 0.6075; specified in thesis in tables 5.1 and 5.2 in sections 5.1 and 5.2; model name in thesis: RB_BSrl_Hyper2-Hypo).\n",
    "\n",
    "NB All models in the SR step stem from SG with robertabase. "
   ]
  },
  {
   "cell_type": "markdown",
   "id": "c1077d75-f5d6-4232-ad2a-b3fc7e07ec26",
   "metadata": {},
   "source": [
    "### With CEFR levels:\n",
    "The code below corresponds to the results presented in section 5.1 and 5.2 of the thesis, for the model that incorporated the SR step with CEFR levels."
   ]
  },
  {
   "cell_type": "code",
   "execution_count": null,
   "id": "e83490e3-83cd-4d29-be71-91f27e6129a2",
   "metadata": {},
   "outputs": [],
   "source": [
    "weighted_dataset = './cefr_all/cefr_all_combined.tsv'"
   ]
  },
  {
   "cell_type": "code",
   "execution_count": null,
   "id": "80bcd8b6-8b29-4030-934c-c88cde251dec",
   "metadata": {},
   "outputs": [],
   "source": [
    "substitute_ranking_option2_cefr_weighted(weighted_dataset, prediction)"
   ]
  },
  {
   "cell_type": "markdown",
   "id": "98f54c8f-a612-4075-b868-907f66729784",
   "metadata": {},
   "source": [
    "python tsar_eval.py --gold_file ./data/test/tsar2022_en_test_gold_no_noise.tsv --predictions_file ./predictions/test/SS_no3_SR_option2eCEFR_all_robertabase.tsv --output_file ./output/test/SS_no3_SR_option2eCEFR_all_robertabase.tsv"
   ]
  },
  {
   "cell_type": "raw",
   "id": "8b4e1889-f614-4765-8200-eb0b50e81bb3",
   "metadata": {},
   "source": [
    "=========   EVALUATION config.=========\n",
    "GOLD file = ./data/test/tsar2022_en_test_gold_no_noise.tsv\n",
    "PREDICTION LABELS file = ./predictions/test/SS_no3_SR_option2eCEFR_all_robertabase.tsv\n",
    "OUTPUT file = ./output/test/SS_no3_SR_option2eCEFR_all_robertabase.tsv\n",
    "===============   RESULTS  =============\n",
    "\n",
    "MAP@1/Potential@1/Precision@1 = 0.4327\n",
    "\n",
    "MAP@3 = 0.3101\n",
    "MAP@5 = 0.2553\n",
    "MAP@10 = 0.175\n",
    "\n",
    "Potential@3 = 0.7768\n",
    "Potential@5 = 0.9059\n",
    "Potential@10 = 0.9677\n",
    "\n",
    "Accuracy@1@top_gold_1 = 0.1801\n",
    "Accuracy@2@top_gold_1 = 0.3064\n",
    "Accuracy@3@top_gold_1 = 0.3978"
   ]
  },
  {
   "cell_type": "markdown",
   "id": "d3e3192a-bca7-4d71-9fdf-2d4d114383da",
   "metadata": {},
   "source": [
    "#### Results:\n",
    "Based on the accumulated scores, as well as on ACC@1 scores, this is least performing model on the test set:\n",
    "\n",
    "- SS_no3_SR_option2eCEFR_all_robertabase (accum. score: 4.7078. ACC@1 score: 0.4327; specified in thesis in tables 5.1 and 5.2 in sections 5.1 and 5.2; model name in thesis: RB_BSrl_CEFR-all).\n",
    "\n",
    "NB All models in the SR step stem from SG with robertabase. "
   ]
  },
  {
   "cell_type": "code",
   "execution_count": null,
   "id": "5f1cd6f5-2809-4be7-963c-a0a0e771574c",
   "metadata": {},
   "outputs": [],
   "source": []
  }
 ],
 "metadata": {
  "kernelspec": {
   "display_name": "tensorflow_env",
   "language": "python",
   "name": "tensorflow_env"
  },
  "language_info": {
   "codemirror_mode": {
    "name": "ipython",
    "version": 3
   },
   "file_extension": ".py",
   "mimetype": "text/x-python",
   "name": "python",
   "nbconvert_exporter": "python",
   "pygments_lexer": "ipython3",
   "version": "3.8.16"
  }
 },
 "nbformat": 4,
 "nbformat_minor": 5
}
