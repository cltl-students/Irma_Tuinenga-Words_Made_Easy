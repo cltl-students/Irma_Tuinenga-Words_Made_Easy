{
 "cells": [
  {
   "cell_type": "markdown",
   "metadata": {},
   "source": [
    "#### Evaluations on test set: SR with CEFR levels\n",
    "This notebook corresponds to the results presented in section 5.1 and 5.2 of the thesis, for the model that incorporated the SR step with CEFR levels."
   ]
  },
  {
   "cell_type": "code",
   "execution_count": 1,
   "metadata": {},
   "outputs": [],
   "source": [
    "from utils_test import *"
   ]
  },
  {
   "cell_type": "code",
   "execution_count": 2,
   "metadata": {
    "ExecuteTime": {
     "end_time": "2023-07-13T18:57:13.263471Z",
     "start_time": "2023-07-13T18:57:13.251475Z"
    },
    "collapsed": false,
    "jupyter": {
     "outputs_hidden": false
    }
   },
   "outputs": [],
   "source": [
    "weighted_dataset = './cefr_all/cefr_all_combined.tsv'"
   ]
  },
  {
   "cell_type": "code",
   "execution_count": 3,
   "metadata": {
    "ExecuteTime": {
     "end_time": "2023-07-13T18:57:13.307471Z",
     "start_time": "2023-07-13T18:57:13.266474Z"
    },
    "collapsed": false,
    "jupyter": {
     "outputs_hidden": false
    }
   },
   "outputs": [],
   "source": [
    "prediction = './predictions/test/SS_phase2_option3f_BSrobertalarge_robertabase.tsv'"
   ]
  },
  {
   "cell_type": "code",
   "execution_count": 4,
   "metadata": {
    "ExecuteTime": {
     "end_time": "2023-07-13T18:57:38.970516Z",
     "start_time": "2023-07-13T18:57:29.100518Z"
    },
    "collapsed": false,
    "jupyter": {
     "outputs_hidden": false
    }
   },
   "outputs": [
    {
     "name": "stdout",
     "output_type": "stream",
     "text": [
      "SS_no3_SR_option2eCEFR_all_robertabase exported to csv in path './predictions/test/SS_no3_SR_option2eCEFR_all_robertabase'\n",
      "\n"
     ]
    }
   ],
   "source": [
    "substitute_ranking_option2_cefr_weighted(weighted_dataset, prediction)"
   ]
  },
  {
   "cell_type": "markdown",
   "metadata": {
    "ExecuteTime": {
     "end_time": "2023-07-13T18:57:38.985907Z",
     "start_time": "2023-07-13T18:57:38.972511Z"
    },
    "jupyter": {
     "outputs_hidden": false
    }
   },
   "source": [
    "python tsar_eval.py --gold_file ./data/test/tsar2022_en_test_gold_no_noise.tsv --predictions_file ./predictions/test/SS_no3_SR_option2eCEFR_all_robertabase.tsv --output_file ./output/test/SS_no3_SR_option2eCEFR_all_robertabase.tsv"
   ]
  },
  {
   "cell_type": "raw",
   "metadata": {},
   "source": [
    "=========   EVALUATION config.=========\n",
    "GOLD file = ./data/test/tsar2022_en_test_gold_no_noise.tsv\n",
    "PREDICTION LABELS file = ./predictions/test/SS_no3_SR_option2eCEFR_all_robertabase.tsv\n",
    "OUTPUT file = ./output/test/SS_no3_SR_option2eCEFR_all_robertabase.tsv\n",
    "===============   RESULTS  =============\n",
    "\n",
    "MAP@1/Potential@1/Precision@1 = 0.4327\n",
    "\n",
    "MAP@3 = 0.3101\n",
    "MAP@5 = 0.2553\n",
    "MAP@10 = 0.175\n",
    "\n",
    "Potential@3 = 0.7768\n",
    "Potential@5 = 0.9059\n",
    "Potential@10 = 0.9677\n",
    "\n",
    "Accuracy@1@top_gold_1 = 0.1801\n",
    "Accuracy@2@top_gold_1 = 0.3064\n",
    "Accuracy@3@top_gold_1 = 0.3978"
   ]
  },
  {
   "cell_type": "markdown",
   "metadata": {},
   "source": [
    "#### Results:\n",
    "Based on the accumulated scores, as well as on ACC@1 scores, this is least performing model on the test set:\n",
    "\n",
    "- SS_no3_SR_option2eCEFR_all_robertabase (accum. score: 4.7078. ACC@1 score: 0.4327; specified in thesis in tables 5.1 and 5.2 in sections 5.1 and 5.2; model name in thesis: RB_BSrl_CEFR-all).\n",
    "\n",
    "NB All models in the SR step stem from SG with robertabase. "
   ]
  }
 ],
 "metadata": {
  "kernelspec": {
   "display_name": "tensorflow_env",
   "language": "python",
   "name": "tensorflow_env"
  },
  "language_info": {
   "codemirror_mode": {
    "name": "ipython",
    "version": 3
   },
   "file_extension": ".py",
   "mimetype": "text/x-python",
   "name": "python",
   "nbconvert_exporter": "python",
   "pygments_lexer": "ipython3",
   "version": "3.8.16"
  }
 },
 "nbformat": 4,
 "nbformat_minor": 4
}
