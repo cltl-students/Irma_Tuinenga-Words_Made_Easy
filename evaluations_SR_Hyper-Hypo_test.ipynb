{
 "cells": [
  {
   "cell_type": "markdown",
   "id": "22097079-bddc-4066-bcd6-981db0cde8bc",
   "metadata": {},
   "source": [
    "### TEST set: Substitute Ranking (SR) step with hypernym-hyponym relations:\n",
    "\n",
    "This notebook corresponds to the results presented in sections 5.1 and 5.2 of the thesis, for the model that incorporated the SR step with 2 level up hypernym-hyponym relations. "
   ]
  },
  {
   "cell_type": "code",
   "execution_count": 1,
   "id": "a5596877-ef32-4185-bd41-e7096e61c634",
   "metadata": {},
   "outputs": [],
   "source": [
    "from utils_test import *"
   ]
  },
  {
   "cell_type": "code",
   "execution_count": 2,
   "id": "15b6c68e-49f1-4e3f-966d-37205533afff",
   "metadata": {},
   "outputs": [],
   "source": [
    "prediction = './predictions/test/SS_phase2_option3f_BSrobertalarge_robertabase.tsv'"
   ]
  },
  {
   "cell_type": "code",
   "execution_count": 3,
   "id": "43420a26-5435-4bac-9cd3-00988160ce5a",
   "metadata": {},
   "outputs": [
    {
     "name": "stdout",
     "output_type": "stream",
     "text": [
      "SS_no3_SR_option1_Hyper2-Hypo_robertabase exported to path './predictions/test/SS_no3_SR_option1_Hyper2-Hypo_robertabase.tsv'\n",
      "\n"
     ]
    }
   ],
   "source": [
    "substitute_ranking_option1_hyper(prediction, levels = [2])"
   ]
  },
  {
   "cell_type": "markdown",
   "id": "7675e2dd-6e0d-4bcc-8d0e-c44bca49552e",
   "metadata": {},
   "source": [
    "python tsar_eval.py --gold_file ./data/test/tsar2022_en_test_gold_no_noise.tsv --predictions_file ./predictions/test/SS_no3_SR_option1_Hyper2-Hypo_robertabase.tsv --output_file ./output/test/SS_no3_SR_option1_Hyper2-Hypo_robertabase.tsv"
   ]
  },
  {
   "cell_type": "raw",
   "id": "0a8855f9-256f-4b81-9922-1e674ef40e5e",
   "metadata": {},
   "source": [
    "=========   EVALUATION config.=========\n",
    "GOLD file = ./data/test/tsar2022_en_test_gold_no_noise.tsv\n",
    "PREDICTION LABELS file = ./predictions/test/SS_no3_SR_option1_Hyper2-Hypo_robertabase.tsv\n",
    "OUTPUT file = ./output/test/SS_no3_SR_option1_Hyper2-Hypo_robertabase.tsv\n",
    "===============   RESULTS  =============\n",
    "\n",
    "MAP@1/Potential@1/Precision@1 = 0.6075\n",
    "\n",
    "MAP@3 = 0.4205\n",
    "MAP@5 = 0.3244\n",
    "MAP@10 = 0.2023\n",
    "\n",
    "Potential@3 = 0.8521\n",
    "Potential@5 = 0.9274\n",
    "Potential@10 = 0.9677\n",
    "\n",
    "Accuracy@1@top_gold_1 = 0.25\n",
    "Accuracy@2@top_gold_1 = 0.3736\n",
    "Accuracy@3@top_gold_1 = 0.4596"
   ]
  },
  {
   "cell_type": "markdown",
   "id": "3fb30bf3-6588-409c-b7dd-f00c233ce002",
   "metadata": {},
   "source": [
    "#### Results:\n",
    "Based on the accumulated scores, as well as on ACC@1 scores, this is the second best model on the test set:\n",
    "\n",
    "- SS_no3_SR_option1_Hyper2-Hypo_robertabase (accum. score: 5.3851. ACC@1 score: 0.6075; specified in thesis in tables 5.1 and 5.2 in sections 5.1 and 5.2; model name in thesis: RB_BSrl_Hyper2-Hypo).\n",
    "\n",
    "NB All models in the SR step stem from SG with robertabase. "
   ]
  }
 ],
 "metadata": {
  "kernelspec": {
   "display_name": "tensorflow_env",
   "language": "python",
   "name": "tensorflow_env"
  },
  "language_info": {
   "codemirror_mode": {
    "name": "ipython",
    "version": 3
   },
   "file_extension": ".py",
   "mimetype": "text/x-python",
   "name": "python",
   "nbconvert_exporter": "python",
   "pygments_lexer": "ipython3",
   "version": "3.8.16"
  }
 },
 "nbformat": 4,
 "nbformat_minor": 5
}
