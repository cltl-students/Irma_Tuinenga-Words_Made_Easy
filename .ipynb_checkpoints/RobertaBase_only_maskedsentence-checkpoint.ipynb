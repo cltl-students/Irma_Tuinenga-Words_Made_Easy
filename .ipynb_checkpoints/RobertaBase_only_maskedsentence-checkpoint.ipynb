{
 "cells": [
  {
   "cell_type": "code",
   "execution_count": 1,
   "id": "e2c9fa1c-58ad-459f-b4d4-b40ff6e13df3",
   "metadata": {},
   "outputs": [
    {
     "name": "stdout",
     "output_type": "stream",
     "text": [
      "Sentence: A Spanish government source, however, later said that banks able to cover by themselves losses on their toxic property assets will not be forced to remove them from their books while it will be compulsory for those receiving public help.\n",
      "Complex word: compulsory\n",
      "Top 30 substitutes: ['possible', 'done', 'reserved', 'easier', 'available', 'true', 'allowed', 'difficult', 'necessary', 'so', 'mandatory', 'legal', 'only', 'different', 'fine', 'appropriate', 'easy', 'compulsory', 'required', 'applied', 'enforced', 'waived', 'obligatory', 'provided', 'impossible', 'harder', 'permitted', 'cheaper', 'beneficial', 'free']\n",
      "\n",
      "Sentence: Rajoy's conservative government had instilled markets with a brief dose of confidence by stepping into Bankia, performing a U-turn on its refusal to spend public money to rescue banks.\n",
      "Complex word: instilled\n",
      "Top 30 substitutes: ['provided', 'injected', 'supplied', 'presented', 'surprised', 'left', 'infused', 'hit', 'rewarded', 'shocked', 'struck', 'pumped', 'stunned', 'relieved', 'gifted', 'greeted', 'flooded', 'blessed', 'given', 'welcomed', 'furnished', 'helped', 'treated', 'provide', 'delighted', 'issued', 'offered', 'slapped', 'filled', 'served']\n",
      "\n",
      "Sentence: #34-3 \"War maniacs of the South Korean puppet military made another grave provocation to the DPRK in the central western sector of the front on Thursday afternoon.\n",
      "Complex word: maniacs\n",
      "Top 30 substitutes: ['riors', 'planes', '\"', 'criminals', 'fighters', 'machine', 'hawks', 'heads', 'head', 'machines', 'lords', 'Machine', 'Party', 'craft', 'plane', 'forces', 'party', 'heroes', 'Crimes', 'parties', 'Warriors', 'breakers', '!\"', 'planes', 'dogs', 'veterans', 'leaders', 'chest', 'lord', 'ists']\n",
      "\n",
      "Sentence: The daily death toll in Syria has declined as the number of observers has risen, but few experts expect the U.N. plan to succeed in its entirety.\n",
      "Complex word: observers\n",
      "Top 30 substitutes: ['airstrikes', 'combatants', 'civilians', 'refugees', 'strikes', 'attacks', 'attackers', 'rebels', 'fighters', 'weapons', 'protesters', 'casualties', 'displaced', 'prisoners', 'children', 'insurgents', 'wounded', 'militants', 'Syrians', 'terrorists', 'bombings', 'rockets', 'fighting', 'bombs', 'jihadists', 'families', 'troops', 'detainees', 'executions', 'fatalities']\n",
      "\n",
      "Sentence: An amateur video showed a young girl who apparently suffered shrapnel wounds in her thigh undergoing treatment in a makeshift Rastan hospital while screaming in pain.\n",
      "Complex word: shrapnel\n",
      "Top 30 substitutes: ['gunshot', 'bullet', 'stab', 'deep', 'multiple', 'open', 'severe', 'knife', 'two', 'serious', 'fatal', 'compression', 'gaping', 'minor', 'three', 'four', 'bite', 'several', 'gunshots', 'internal', 'burn', 'bleeding', 'mortal', 'penetrating', 'superficial', 'shot', 'the', 'critical', 'small', 'torn']\n",
      "\n",
      "Sentence: A local witness said a separate group of attackers disguised in burqas — the head-to-toe robes worn by conservative Afghan women — then tried to storm the compound.\n",
      "Complex word: disguised\n",
      "Top 30 substitutes: ['dressed', 'clad', 'disguised', 'wrapped', 'clothed', 'covered', 'armed', 'veiled', 'masked', 'draped', 'dressing', 'cloaked', 'hiding', 'bundled', 'adorned', ',', 'gathered', 'all', 'wearing', 'posing', 'arriving', 'trained', 'shrouded', 'equipped', 'riding', 'men', 'identified', 'hidden', 'dress', 'seen']\n",
      "\n",
      "Sentence: Syria's Sunni majority is at the forefront of the uprising against Assad, whose minority Alawite sect is an offshoot of Shi'ite Islam.\n",
      "Complex word: offshoot\n",
      "Top 30 substitutes: ['extension', 'adherent', 'enemy', 'opponent', 'interpretation', 'adversary', 'ideology', 'element', 'ally', 'extremist', 'affiliate', 'opposite', 'extreme', 'evolution', 'expansion', 'sect', 'acronym', 'influence', 'alliance', 'adjunct', 'independent', 'opposition', 'expression', 'echo', 'outpost', 'Islam', 'imposition', 'arm', 'example', 'avatar']\n",
      "\n",
      "Sentence: Although not as rare in the symphonic literature as sharper keys , examples of symphonies in A major are not as numerous as for D major or G major .\n",
      "Complex word: symphonic\n",
      "Top 30 substitutes: ['music', 'musical', 'classical', 'piano', 'major', 'concert', 'instrumental', 'jazz', 'modern', 'Classical', 'harmonic', 'keyboard', 'popular', 'Italian', 'Greek', 'organ', 'standard', 'English', 'opera', 'European', 'vocal', 'American', 'world', 'lyric', 'Western', 'contemporary', 'German', 'pop', 'Romantic', 'composition']\n",
      "\n",
      "Sentence: That prompted the military to deploy its largest warship, the BRP Gregorio del Pilar, which was recently acquired from the United States.\n",
      "Complex word: deploy\n",
      "Top 30 substitutes: ['recall', 'upgrade', 'build', 'retire', 'redesign', 'overhaul', 'rebuild', 'purchase', 'replace', 'sell', 'deploy', 'use', 'rename', 'buy', 'cancel', 'expand', 'modify', 'scrap', 'shrink', 'launch', 'name', 'abandon', 'dismantle', 'seize', 'acquire', 'destroy', 'surrender', 'inspect', 'develop', 'fire']\n",
      "\n",
      "Sentence: #35-14 UK police were expressly forbidden, at a ministerial level, to provide any assistance to Thai authorities as the case involves the death penalty.\n",
      "Complex word: authorities\n",
      "Top 30 substitutes: ['authorities', 'police', 'officials', 'nationals', 'investigators', 'prosecutors', 'detainees', 'suspects', 'intelligence', 'prisoners', 'prosecution', 'citizens', 'officers', 'lawyers', 'State', 'terrorists', 'defendants', 'refugees', 'diplomats', 'government', 'counterparts', 'victims', ',', 'prisons', 'forces', 'journalists', 'state', 'Police', 'protesters', 'courts']\n",
      "\n"
     ]
    }
   ],
   "source": [
    "import torch\n",
    "from transformers import RobertaTokenizer, RobertaForMaskedLM\n",
    "import pandas as pd\n",
    "\n",
    "# load RoBERTa model and tokenizer\n",
    "model = RobertaForMaskedLM.from_pretrained('roberta-base')\n",
    "tokenizer = RobertaTokenizer.from_pretrained('roberta-base')\n",
    "\n",
    "# read the tsv file\n",
    "filename = \"./data/trial/tsar2022_en_trial_none.tsv\"\n",
    "data = pd.read_csv(filename, sep='\\t', header=None, names=[\"sentence\", \"complex_word\"])\n",
    "\n",
    "# in each row, mask the complex word and generate substitutes\n",
    "for index, row in data.iterrows():\n",
    "    sentence, complex_word = row[\"sentence\"], row[\"complex_word\"]\n",
    "    \n",
    "    # in the sentence, replace the complex word with a masked word\n",
    "    sentence_maskedword = sentence.replace(complex_word, \"<mask>\")\n",
    "    \n",
    "    # tokenize the sentence with the masked word\n",
    "    sentence_maskedword_tokenized = tokenizer.encode(sentence_maskedword, return_tensors='pt')\n",
    "    \n",
    "    # find the masked word in the tokenized sentence\n",
    "    mask_location = torch.where(sentence_maskedword_tokenized == tokenizer.mask_token_id)[1].item()\n",
    "\n",
    "    # generate predictions for the masked word\n",
    "    with torch.no_grad():\n",
    "        outputs = model(sentence_maskedword_tokenized)\n",
    "        predictions = outputs.logits\n",
    "\n",
    "    # # get the top-k predictions\n",
    "    top_k = 30\n",
    "    top_tokens = torch.topk(predictions[0, mask_location], top_k).indices\n",
    "\n",
    "   # decode the top_tokens \n",
    "    substitutes = [tokenizer.decode(token.item()).strip() for token in top_tokens]\n",
    "\n",
    "    print(f\"Sentence: {sentence}\")\n",
    "    print(f\"Complex word: {complex_word}\")\n",
    "    print(f\"Top {top_k} substitutes: {substitutes}\\n\")\n"
   ]
  },
  {
   "cell_type": "code",
   "execution_count": null,
   "id": "6835331a-51e5-4a2c-8b81-f9bb560bae15",
   "metadata": {},
   "outputs": [],
   "source": []
  }
 ],
 "metadata": {
  "kernelspec": {
   "display_name": "torch_kernel",
   "language": "python",
   "name": "torch_kernel"
  },
  "language_info": {
   "codemirror_mode": {
    "name": "ipython",
    "version": 3
   },
   "file_extension": ".py",
   "mimetype": "text/x-python",
   "name": "python",
   "nbconvert_exporter": "python",
   "pygments_lexer": "ipython3",
   "version": "3.8.16"
  }
 },
 "nbformat": 4,
 "nbformat_minor": 5
}
