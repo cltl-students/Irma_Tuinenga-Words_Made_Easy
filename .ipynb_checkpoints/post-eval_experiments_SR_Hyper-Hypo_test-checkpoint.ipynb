{
 "cells": [
  {
   "cell_type": "markdown",
   "id": "22097079-bddc-4066-bcd6-981db0cde8bc",
   "metadata": {},
   "source": [
    "## TEST set: Substitute Ranking (SR) step with hypernym-hyponym relations:\n",
    "\n",
    "This notebook corresponds to the results presented in sections 5.1 and 5.2 of my thesis, for the model that incorporated the SR step with 2 level up hypernym-hyponym relations. "
   ]
  },
  {
   "cell_type": "code",
   "execution_count": 1,
   "id": "a5596877-ef32-4185-bd41-e7096e61c634",
   "metadata": {},
   "outputs": [],
   "source": [
    "from utils_test import *"
   ]
  },
  {
   "cell_type": "code",
   "execution_count": 2,
   "id": "1f522d7b-034a-45d7-9ce0-dca0cb4fa421",
   "metadata": {},
   "outputs": [],
   "source": [
    "prediction = './predictions/test/SS_phase2_option3f_BSrobertalarge_robertabase.tsv'"
   ]
  },
  {
   "cell_type": "code",
   "execution_count": null,
   "id": "66c8db14-6ae9-4841-bfe6-b5722768b7b8",
   "metadata": {},
   "outputs": [],
   "source": [
    "substitute_ranking_option1_hyper2(prediction)"
   ]
  },
  {
   "cell_type": "markdown",
   "id": "7675e2dd-6e0d-4bcc-8d0e-c44bca49552e",
   "metadata": {},
   "source": [
    "python tsar_eval.py --gold_file ./data/test/tsar2022_en_test_gold_no_noise.tsv --predictions_file ./predictions/test/SS_no3_SR_option1b_Hyper2Hypo_robertabase.tsv --output_file ./output/test/SS_no3_SR_option1b_Hyper2Hypo_robertabase.tsv"
   ]
  },
  {
   "cell_type": "raw",
   "id": "0a8855f9-256f-4b81-9922-1e674ef40e5e",
   "metadata": {},
   "source": [
    "=========   EVALUATION config.=========\n",
    "GOLD file = ./data/test/tsar2022_en_test_gold_no_noise.tsv\n",
    "PREDICTION LABELS file = ./predictions/test/SS_no3_SR_option1b_Hyper2Hypo_robertabase.tsv\n",
    "OUTPUT file = ./output/test/SS_no3_SR_option1b_Hyper2Hypo_robertabase.tsv\n",
    "===============   RESULTS  =============\n",
    "\n",
    "MAP@1/Potential@1/Precision@1 = 0.6075\n",
    "\n",
    "MAP@3 = 0.4205\n",
    "MAP@5 = 0.3244\n",
    "MAP@10 = 0.2023\n",
    "\n",
    "Potential@3 = 0.8521\n",
    "Potential@5 = 0.9274\n",
    "Potential@10 = 0.9677\n",
    "\n",
    "Accuracy@1@top_gold_1 = 0.25\n",
    "Accuracy@2@top_gold_1 = 0.3736\n",
    "Accuracy@3@top_gold_1 = 0.4596\n"
   ]
  },
  {
   "cell_type": "markdown",
   "id": "3fb30bf3-6588-409c-b7dd-f00c233ce002",
   "metadata": {},
   "source": [
    "#### Results:\n",
    "Based on the accumulated scores, as well as on ACC@1 scores, this is the second best model on the test set:\n",
    "\n",
    "- SS_no3_SR_option1b_Hyper2Hypo_robertabase (accum. score: 5.3851. ACC@1 score: 0.6075; specified in thesis in tables 5.1 and 5.2 in sections 5.1 and 5.2; model name in thesis: RB_BSrl_Hyper2-Hypo).\n",
    "\n",
    "NB All models in the SR step stem from SG with robertabase. "
   ]
  },
  {
   "cell_type": "code",
   "execution_count": 3,
   "id": "2d321a6d-d259-4da9-9036-33aa077e7fb4",
   "metadata": {},
   "outputs": [],
   "source": [
    "def posteval_substitute_ranking_hyper(prediction, levels=[1, 2]):\n",
    "    \"\"\"\n",
    "    Rank the substitutes of a complex word based on whether they function as a hypernym of the complex word up to a specific hypernym level.\n",
    "    \n",
    "    :param prediction: the file path to the tsv file containing the sentences, complex words, and their substitutes.\n",
    "    :param levels: the specific hypernym levels as a list of integers. Default is [1, 2].\n",
    "    :return: None. The results are saved to a tsv file.\n",
    "    \"\"\"\n",
    "    pred_df = pd.read_csv(prediction, sep='\\t', header=None)\n",
    "\n",
    "    for index, row in pred_df.iterrows():\n",
    "        sentence = row[0]\n",
    "        complex_word = row[1]\n",
    "        substitutes = row[2:12]\n",
    "\n",
    "        doc_complex_word = nlp(complex_word)\n",
    "        complex_word_lemma = doc_complex_word[0].lemma_\n",
    "        complex_word_synsets = wn.synsets(complex_word_lemma)\n",
    "\n",
    "        complex_word_hypernyms = {i:[] for i in range(1, max(levels)+1)}\n",
    "        complex_word_hypernyms[1] = [h for syn in complex_word_synsets for h in syn.hypernyms()]\n",
    "        for i in range(2, max(levels)+1):\n",
    "            complex_word_hypernyms[i] = [h for h_prev in complex_word_hypernyms[i - 1] for h in h_prev.hypernyms()]\n",
    "\n",
    "        complex_word_hypernyms_lemmas = [lemma for level in levels for h in complex_word_hypernyms[level] for lemma in h.lemma_names()]\n",
    "\n",
    "        substitute_lemmas_synsets = []\n",
    "        for substitute in substitutes:\n",
    "            doc_substitute = nlp(substitute)\n",
    "            substitute_lemma = doc_substitute[0].lemma_\n",
    "            substitute_synsets = wn.synsets(substitute_lemma)\n",
    "            substitute_lemmas_synsets.append((substitute, substitute_lemma, substitute_synsets))\n",
    "\n",
    "        intersection_substitutes = []\n",
    "        other_substitutes = []\n",
    "        for substitute, substitute_lemma, substitute_synsets in substitute_lemmas_synsets:\n",
    "            substitute_synsets_lemmas = [lemma for syn in substitute_synsets for lemma in syn.lemma_names()]\n",
    "\n",
    "            intersection = set(complex_word_hypernyms_lemmas).intersection(set(substitute_synsets_lemmas))\n",
    "            if intersection:\n",
    "                intersection_substitutes.append(substitute)\n",
    "            else:\n",
    "                other_substitutes.append(substitute)\n",
    "\n",
    "        final_list = intersection_substitutes + other_substitutes\n",
    "        pred_df.loc[index] = [sentence, complex_word] + final_list\n",
    "\n",
    "    pred_df.to_csv(f\"./predictions/test/posteval_Hyper{'_'.join(map(str, levels))}-Hypo.tsv\", sep=\"\\t\", index=False, header=False)\n",
    "    print(f\"posteval_Hyper{'_'.join(map(str, levels))}-Hypo exported to path './predictions/test/posteval_Hyper{'_'.join(map(str, levels))}-Hypo.tsv'\\n\")\n"
   ]
  },
  {
   "cell_type": "code",
   "execution_count": 4,
   "id": "b4b47300-b66d-404d-bd18-3e2da6ec18a0",
   "metadata": {},
   "outputs": [
    {
     "name": "stdout",
     "output_type": "stream",
     "text": [
      "posteval_Hyper1-Hypo exported to path './predictions/test/posteval_Hyper1-Hypo.tsv'\n",
      "\n",
      "posteval_Hyper2-Hypo exported to path './predictions/test/posteval_Hyper2-Hypo.tsv'\n",
      "\n",
      "posteval_Hyper3-Hypo exported to path './predictions/test/posteval_Hyper3-Hypo.tsv'\n",
      "\n",
      "posteval_Hyper4-Hypo exported to path './predictions/test/posteval_Hyper4-Hypo.tsv'\n",
      "\n",
      "posteval_Hyper5-Hypo exported to path './predictions/test/posteval_Hyper5-Hypo.tsv'\n",
      "\n",
      "posteval_Hyper1_2-Hypo exported to path './predictions/test/posteval_Hyper1_2-Hypo.tsv'\n",
      "\n",
      "posteval_Hyper1_2_3-Hypo exported to path './predictions/test/posteval_Hyper1_2_3-Hypo.tsv'\n",
      "\n",
      "posteval_Hyper1_2_3_4-Hypo exported to path './predictions/test/posteval_Hyper1_2_3_4-Hypo.tsv'\n",
      "\n",
      "posteval_Hyper1_2_3_4_5-Hypo exported to path './predictions/test/posteval_Hyper1_2_3_4_5-Hypo.tsv'\n",
      "\n"
     ]
    }
   ],
   "source": [
    "posteval_substitute_ranking_hyper(prediction, levels = [1])\n",
    "posteval_substitute_ranking_hyper(prediction, levels = [2])\n",
    "posteval_substitute_ranking_hyper(prediction, levels = [3])\n",
    "posteval_substitute_ranking_hyper(prediction, levels = [4])\n",
    "posteval_substitute_ranking_hyper(prediction, levels = [5])\n",
    "\n",
    "posteval_substitute_ranking_hyper(prediction, levels=[1,2])\n",
    "posteval_substitute_ranking_hyper(prediction, levels=[1,2,3])\n",
    "posteval_substitute_ranking_hyper(prediction, levels=[1,2,3,4])\n",
    "posteval_substitute_ranking_hyper(prediction, levels=[1,2,3,4,5])"
   ]
  },
  {
   "cell_type": "markdown",
   "id": "e6d4f404-1122-495d-9b81-04646ce07aab",
   "metadata": {},
   "source": [
    "python tsar_eval.py --gold_file ./data/test/tsar2022_en_test_gold_no_noise.tsv --predictions_file ./predictions/test/posteval_Hyper1-Hypo.tsv --output_file ./output/test/posteval_Hyper1-Hypo.tsv"
   ]
  },
  {
   "cell_type": "raw",
   "id": "f8692dcd-a5c3-4ece-a6d3-186757ee84a1",
   "metadata": {},
   "source": [
    "=========   EVALUATION config.=========\n",
    "GOLD file = ./data/test/tsar2022_en_test_gold_no_noise.tsv\n",
    "PREDICTION LABELS file = ./predictions/test/posteval_Hyper1-Hypo.tsv\n",
    "OUTPUT file = ./output/test/posteval_Hyper1-Hypo.tsv\n",
    "===============   RESULTS  =============\n",
    "\n",
    "MAP@1/Potential@1/Precision@1 = 0.672\n",
    "\n",
    "MAP@3 = 0.4551\n",
    "MAP@5 = 0.3453\n",
    "MAP@10 = 0.2112\n",
    "\n",
    "Potential@3 = 0.8629\n",
    "Potential@5 = 0.9274\n",
    "Potential@10 = 0.9677\n",
    "\n",
    "Accuracy@1@top_gold_1 = 0.2741\n",
    "Accuracy@2@top_gold_1 = 0.4166\n",
    "Accuracy@3@top_gold_1 = 0.4892"
   ]
  },
  {
   "cell_type": "markdown",
   "id": "0139ac74-7790-45e5-961a-4167b8482d6d",
   "metadata": {},
   "source": [
    "python tsar_eval.py --gold_file ./data/test/tsar2022_en_test_gold_no_noise.tsv --predictions_file ./predictions/test/posteval_Hyper2-Hypo.tsv --output_file ./output/test/posteval_Hyper2-Hypo.tsv"
   ]
  },
  {
   "cell_type": "raw",
   "id": "ffe42650-041f-4678-9121-2bfd5e0f474a",
   "metadata": {},
   "source": [
    "=========   EVALUATION config.=========\n",
    "GOLD file = ./data/test/tsar2022_en_test_gold_no_noise.tsv\n",
    "PREDICTION LABELS file = ./predictions/test/posteval_Hyper2-Hypo.tsv\n",
    "OUTPUT file = ./output/test/posteval_Hyper2-Hypo.tsv\n",
    "===============   RESULTS  =============\n",
    "\n",
    "MAP@1/Potential@1/Precision@1 = 0.6075\n",
    "\n",
    "MAP@3 = 0.4205\n",
    "MAP@5 = 0.3244\n",
    "MAP@10 = 0.2023\n",
    "\n",
    "Potential@3 = 0.8521\n",
    "Potential@5 = 0.9274\n",
    "Potential@10 = 0.9677\n",
    "\n",
    "Accuracy@1@top_gold_1 = 0.25\n",
    "Accuracy@2@top_gold_1 = 0.3736\n",
    "Accuracy@3@top_gold_1 = 0.4596\n"
   ]
  },
  {
   "cell_type": "markdown",
   "id": "f083db83-e7f3-43ae-bce2-f3983770faae",
   "metadata": {},
   "source": [
    "python tsar_eval.py --gold_file ./data/test/tsar2022_en_test_gold_no_noise.tsv --predictions_file ./predictions/test/posteval_Hyper3-Hypo.tsv --output_file ./output/test/posteval_Hyper3-Hypo.tsv"
   ]
  },
  {
   "cell_type": "raw",
   "id": "3f98eab9-612d-485d-8b8a-87f095004d0e",
   "metadata": {},
   "source": [
    "=========   EVALUATION config.=========\n",
    "GOLD file = ./data/test/tsar2022_en_test_gold_no_noise.tsv\n",
    "PREDICTION LABELS file = ./predictions/test/posteval_Hyper3-Hypo.tsv\n",
    "OUTPUT file = ./output/test/posteval_Hyper3-Hypo.tsv\n",
    "===============   RESULTS  =============\n",
    "\n",
    "MAP@1/Potential@1/Precision@1 = 0.6102\n",
    "\n",
    "MAP@3 = 0.4215\n",
    "MAP@5 = 0.3239\n",
    "MAP@10 = 0.2018\n",
    "\n",
    "Potential@3 = 0.8413\n",
    "Potential@5 = 0.9247\n",
    "Potential@10 = 0.9677\n",
    "\n",
    "Accuracy@1@top_gold_1 = 0.2715\n",
    "Accuracy@2@top_gold_1 = 0.3844\n",
    "Accuracy@3@top_gold_1 = 0.4704"
   ]
  },
  {
   "cell_type": "markdown",
   "id": "1e615542-aaba-4ad1-bf3d-31ba51cf1962",
   "metadata": {},
   "source": [
    "python tsar_eval.py --gold_file ./data/test/tsar2022_en_test_gold_no_noise.tsv --predictions_file ./predictions/test/posteval_Hyper4-Hypo.tsv --output_file ./output/test/posteval_Hyper4-Hypo.tsv"
   ]
  },
  {
   "cell_type": "raw",
   "id": "b93f2a2c-528e-402a-8516-bb3916652f19",
   "metadata": {},
   "source": [
    "=========   EVALUATION config.=========\n",
    "GOLD file = ./data/test/tsar2022_en_test_gold_no_noise.tsv\n",
    "PREDICTION LABELS file = ./predictions/test/posteval_Hyper4-Hypo.tsv\n",
    "OUTPUT file = ./output/test/posteval_Hyper4-Hypo.tsv\n",
    "===============   RESULTS  =============\n",
    "\n",
    "MAP@1/Potential@1/Precision@1 = 0.5967\n",
    "\n",
    "MAP@3 = 0.4184\n",
    "MAP@5 = 0.321\n",
    "MAP@10 = 0.201\n",
    "\n",
    "Potential@3 = 0.8387\n",
    "Potential@5 = 0.922\n",
    "Potential@10 = 0.9677\n",
    "\n",
    "Accuracy@1@top_gold_1 = 0.258\n",
    "Accuracy@2@top_gold_1 = 0.4059\n",
    "Accuracy@3@top_gold_1 = 0.4731\n"
   ]
  },
  {
   "cell_type": "markdown",
   "id": "f3e2ec7e-718f-4b03-b505-291f74116059",
   "metadata": {},
   "source": [
    "python tsar_eval.py --gold_file ./data/test/tsar2022_en_test_gold_no_noise.tsv --predictions_file ./predictions/test/posteval_Hyper5-Hypo.tsv --output_file ./output/test/posteval_Hyper5-Hypo.tsv"
   ]
  },
  {
   "cell_type": "raw",
   "id": "d4c8b0e6-ff76-4e8f-b83d-89164c8b6742",
   "metadata": {},
   "source": [
    "=========   EVALUATION config.=========\n",
    "GOLD file = ./data/test/tsar2022_en_test_gold_no_noise.tsv\n",
    "PREDICTION LABELS file = ./predictions/test/posteval_Hyper5-Hypo.tsv\n",
    "OUTPUT file = ./output/test/posteval_Hyper5-Hypo.tsv\n",
    "===============   RESULTS  =============\n",
    "\n",
    "MAP@1/Potential@1/Precision@1 = 0.6048\n",
    "\n",
    "MAP@3 = 0.4233\n",
    "MAP@5 = 0.3238\n",
    "MAP@10 = 0.2022\n",
    "\n",
    "Potential@3 = 0.8413\n",
    "Potential@5 = 0.922\n",
    "Potential@10 = 0.9677\n",
    "\n",
    "Accuracy@1@top_gold_1 = 0.2688\n",
    "Accuracy@2@top_gold_1 = 0.4086\n",
    "Accuracy@3@top_gold_1 = 0.4704\n"
   ]
  },
  {
   "cell_type": "markdown",
   "id": "d54afb18-1f35-4eec-963c-de5998690a1f",
   "metadata": {},
   "source": [
    "python tsar_eval.py --gold_file ./data/test/tsar2022_en_test_gold_no_noise.tsv --predictions_file ./predictions/test/posteval_Hyper1_2-Hypo.tsv --output_file ./output/test/posteval_Hyper1_2-Hypo.tsv"
   ]
  },
  {
   "cell_type": "raw",
   "id": "080547c0-6d30-4012-b655-f002347e589e",
   "metadata": {},
   "source": [
    "=========   EVALUATION config.=========\n",
    "GOLD file = ./data/test/tsar2022_en_test_gold_no_noise.tsv\n",
    "PREDICTION LABELS file = ./predictions/test/posteval_Hyper1_2-Hypo.tsv\n",
    "OUTPUT file = ./output/test/posteval_Hyper1_2-Hypo.tsv\n",
    "===============   RESULTS  =============\n",
    "\n",
    "MAP@1/Potential@1/Precision@1 = 0.6666\n",
    "\n",
    "MAP@3 = 0.4514\n",
    "MAP@5 = 0.3463\n",
    "MAP@10 = 0.211\n",
    "\n",
    "Potential@3 = 0.8575\n",
    "Potential@5 = 0.9354\n",
    "Potential@10 = 0.9677\n",
    "\n",
    "Accuracy@1@top_gold_1 = 0.2661\n",
    "Accuracy@2@top_gold_1 = 0.4139\n",
    "Accuracy@3@top_gold_1 = 0.4865\n"
   ]
  },
  {
   "cell_type": "markdown",
   "id": "f3171c83-0188-4c7c-a0ac-7d6bd3dcbc1d",
   "metadata": {},
   "source": [
    "python tsar_eval.py --gold_file ./data/test/tsar2022_en_test_gold_no_noise.tsv --predictions_file ./predictions/test/posteval_Hyper1_2_3-Hypo.tsv --output_file ./output/test/posteval_Hyper1_2_3-Hypo.tsv"
   ]
  },
  {
   "cell_type": "raw",
   "id": "03e5df82-65bd-42b2-845a-79c5792e308d",
   "metadata": {},
   "source": [
    "=========   EVALUATION config.=========\n",
    "GOLD file = ./data/test/tsar2022_en_test_gold_no_noise.tsv\n",
    "PREDICTION LABELS file = ./predictions/test/posteval_Hyper1_2_3-Hypo.tsv\n",
    "OUTPUT file = ./output/test/posteval_Hyper1_2_3-Hypo.tsv\n",
    "===============   RESULTS  =============\n",
    "\n",
    "MAP@1/Potential@1/Precision@1 = 0.6586\n",
    "\n",
    "MAP@3 = 0.4495\n",
    "MAP@5 = 0.3439\n",
    "MAP@10 = 0.2103\n",
    "\n",
    "Potential@3 = 0.8575\n",
    "Potential@5 = 0.9354\n",
    "Potential@10 = 0.9677\n",
    "\n",
    "Accuracy@1@top_gold_1 = 0.2661\n",
    "Accuracy@2@top_gold_1 = 0.4059\n",
    "Accuracy@3@top_gold_1 = 0.4892\n"
   ]
  },
  {
   "cell_type": "markdown",
   "id": "a5b6dc14-6b1e-4386-92b8-58ccda6b5871",
   "metadata": {},
   "source": [
    "python tsar_eval.py --gold_file ./data/test/tsar2022_en_test_gold_no_noise.tsv --predictions_file ./predictions/test/posteval_Hyper1_2_3_4-Hypo.tsv --output_file ./output/test/posteval_Hyper1_2_3_4-Hypo.tsv"
   ]
  },
  {
   "cell_type": "raw",
   "id": "98e27f88-26ac-43be-8161-5a6daee62f23",
   "metadata": {},
   "source": [
    "=========   EVALUATION config.=========\n",
    "GOLD file = ./data/test/tsar2022_en_test_gold_no_noise.tsv\n",
    "PREDICTION LABELS file = ./predictions/test/posteval_Hyper1_2_3_4-Hypo.tsv\n",
    "OUTPUT file = ./output/test/posteval_Hyper1_2_3_4-Hypo.tsv\n",
    "===============   RESULTS  =============\n",
    "\n",
    "MAP@1/Potential@1/Precision@1 = 0.6505\n",
    "\n",
    "MAP@3 = 0.4432\n",
    "MAP@5 = 0.3411\n",
    "MAP@10 = 0.2091\n",
    "\n",
    "Potential@3 = 0.8575\n",
    "Potential@5 = 0.9327\n",
    "Potential@10 = 0.9677\n",
    "\n",
    "Accuracy@1@top_gold_1 = 0.2607\n",
    "Accuracy@2@top_gold_1 = 0.3951\n",
    "Accuracy@3@top_gold_1 = 0.4865"
   ]
  },
  {
   "cell_type": "markdown",
   "id": "398edac2-d5a1-41f0-aea5-44692c8a8add",
   "metadata": {},
   "source": [
    "python tsar_eval.py --gold_file ./data/test/tsar2022_en_test_gold_no_noise.tsv --predictions_file ./predictions/test/posteval_Hyper1_2_3_4_5-Hypo.tsv --output_file ./output/test/posteval_Hyper1_2_3_4_5-Hypo.tsv"
   ]
  },
  {
   "cell_type": "raw",
   "id": "1976df55-d851-4cf7-8e4e-ca5d54f4516b",
   "metadata": {},
   "source": [
    "=========   EVALUATION config.=========\n",
    "GOLD file = ./data/test/tsar2022_en_test_gold_no_noise.tsv\n",
    "PREDICTION LABELS file = ./predictions/test/posteval_Hyper1_2_3_4_5-Hypo.tsv\n",
    "OUTPUT file = ./output/test/posteval_Hyper1_2_3_4_5-Hypo.tsv\n",
    "===============   RESULTS  =============\n",
    "\n",
    "MAP@1/Potential@1/Precision@1 = 0.6451\n",
    "\n",
    "MAP@3 = 0.4413\n",
    "MAP@5 = 0.3403\n",
    "MAP@10 = 0.2086\n",
    "\n",
    "Potential@3 = 0.8575\n",
    "Potential@5 = 0.9301\n",
    "Potential@10 = 0.9677\n",
    "\n",
    "Accuracy@1@top_gold_1 = 0.2607\n",
    "Accuracy@2@top_gold_1 = 0.3951\n",
    "Accuracy@3@top_gold_1 = 0.4892\n"
   ]
  }
 ],
 "metadata": {
  "kernelspec": {
   "display_name": "tensorflow_env",
   "language": "python",
   "name": "tensorflow_env"
  },
  "language_info": {
   "codemirror_mode": {
    "name": "ipython",
    "version": 3
   },
   "file_extension": ".py",
   "mimetype": "text/x-python",
   "name": "python",
   "nbconvert_exporter": "python",
   "pygments_lexer": "ipython3",
   "version": "3.8.16"
  }
 },
 "nbformat": 4,
 "nbformat_minor": 5
}
