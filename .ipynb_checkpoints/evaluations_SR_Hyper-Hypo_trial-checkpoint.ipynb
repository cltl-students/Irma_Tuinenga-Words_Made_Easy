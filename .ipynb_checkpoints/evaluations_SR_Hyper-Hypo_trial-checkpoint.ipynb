{
 "cells": [
  {
   "cell_type": "code",
   "execution_count": 1,
   "metadata": {
    "ExecuteTime": {
     "end_time": "2023-07-13T19:24:13.644562Z",
     "start_time": "2023-07-13T19:24:13.604561Z"
    },
    "tags": []
   },
   "outputs": [],
   "source": [
    "from utils import *"
   ]
  },
  {
   "cell_type": "code",
   "execution_count": 2,
   "metadata": {
    "ExecuteTime": {
     "end_time": "2023-07-13T19:24:14.992621Z",
     "start_time": "2023-07-13T19:24:14.946621Z"
    },
    "collapsed": false,
    "jupyter": {
     "outputs_hidden": false
    }
   },
   "outputs": [],
   "source": [
    "predictions = ['./predictions/trial/SS_phase2_option2b_SharedHyper2_robertabase.tsv', './predictions/trial/SS_phase2_option1_SharedSyns_robertabase.tsv', './predictions/trial/SS_phase2_option3f_BSrobertalarge_robertabase.tsv']"
   ]
  },
  {
   "cell_type": "code",
   "execution_count": 3,
   "metadata": {
    "ExecuteTime": {
     "end_time": "2023-07-13T19:24:22.136206Z",
     "start_time": "2023-07-13T19:24:15.067643Z"
    },
    "collapsed": false,
    "jupyter": {
     "outputs_hidden": false
    }
   },
   "outputs": [
    {
     "name": "stdout",
     "output_type": "stream",
     "text": [
      "SS_no1_SR_option1a_Hyper1Hypo_robertabase exported to csv in path './predictions/trial/SS_no1_SR_option1a_Hyper1Hypo_robertabase.tsv'\n",
      "\n",
      "SS_no1_SR_option1b_Hyper2Hypo_robertabase exported to csv in path './predictions/trial/SS_no1_SR_option1b_Hyper2Hypo_robertabase.tsv'\n",
      "\n",
      "SS_no1_SR_option1c_Hyper1or2Hypo_robertabase exported to csv in path './predictions/trial/SS_no1_SR_option1c_Hyper1or2Hypo_robertabase.tsv'\n",
      "\n",
      "SS_no2_SR_option1a_Hyper1Hypo_robertabase exported to csv in path './predictions/trial/SS_no2_SR_option1a_Hyper1Hypo_robertabase.tsv'\n",
      "\n",
      "SS_no2_SR_option1b_Hyper2Hypo_robertabase exported to csv in path './predictions/trial/SS_no2_SR_option1b_Hyper2Hypo_robertabase.tsv'\n",
      "\n",
      "SS_no2_SR_option1c_Hyper1or2Hypo_robertabase exported to csv in path './predictions/trial/SS_no2_SR_option1c_Hyper1or2Hypo_robertabase.tsv'\n",
      "\n",
      "SS_no3_SR_option1a_Hyper1Hypo_robertabase exported to csv in path './predictions/trial/SS_no3_SR_option1a_Hyper1Hypo_robertabase.tsv'\n",
      "\n",
      "SS_no3_SR_option1b_Hyper2Hypo_robertabase exported to csv in path './predictions/trial/SS_no3_SR_option1b_Hyper2Hypo_robertabase.tsv'\n",
      "\n",
      "SS_no3_SR_option1c_Hyper1or2Hypo_robertabase exported to csv in path './predictions/trial/SS_no3_SR_option1c_Hyper1or2Hypo_robertabase.tsv'\n",
      "\n"
     ]
    }
   ],
   "source": [
    "for prediction in predictions:\n",
    "    substitute_ranking_option1_hyper1(prediction)\n",
    "    substitute_ranking_option1_hyper2(prediction)\n",
    "    substitute_ranking_option1_hyper1_2(prediction)"
   ]
  },
  {
   "cell_type": "markdown",
   "metadata": {},
   "source": [
    "python tsar_eval.py --gold_file ./data/trial/tsar2022_en_trial_gold_no_noise.tsv --predictions_file ./predictions/trial/SS_no1_SR_option1a_Hyper1Hypo_robertabase.tsv --output_file ./output/trial/SS_no1_SR_option1a_Hyper1Hypo_robertabase.tsv"
   ]
  },
  {
   "cell_type": "raw",
   "metadata": {},
   "source": [
    "=========   EVALUATION config.=========\n",
    "GOLD file = ./data/trial/tsar2022_en_trial_gold_no_noise.tsv\n",
    "PREDICTION LABELS file = ./predictions/trial/SS_no1_SR_option1a_Hyper1Hypo_robertabase.tsv\n",
    "OUTPUT file = ./output/trial/SS_no1_SR_option1a_Hyper1Hypo_robertabase.tsv\n",
    "===============   RESULTS  =============\n",
    "\n",
    "MAP@1/Potential@1/Precision@1 = 0.4\n",
    "\n",
    "MAP@3 = 0.3444\n",
    "MAP@5 = 0.3076\n",
    "MAP@10 = 0.1753\n",
    "\n",
    "Potential@3 = 0.8\n",
    "Potential@5 = 1.0\n",
    "Potential@10 = 1.0\n",
    "\n",
    "Accuracy@1@top_gold_1 = 0.2\n",
    "Accuracy@2@top_gold_1 = 0.5\n",
    "Accuracy@3@top_gold_1 = 0.6"
   ]
  },
  {
   "cell_type": "markdown",
   "metadata": {},
   "source": [
    "python tsar_eval.py --gold_file ./data/trial/tsar2022_en_trial_gold_no_noise.tsv --predictions_file ./predictions/trial/SS_no1_SR_option1b_Hyper2Hypo_robertabase.tsv --output_file ./output/trial/SS_no1_SR_option1b_Hyper2Hypo_robertabase.tsv"
   ]
  },
  {
   "cell_type": "raw",
   "metadata": {},
   "source": [
    "=========   EVALUATION config.=========\n",
    "GOLD file = ./data/trial/tsar2022_en_trial_gold_no_noise.tsv\n",
    "PREDICTION LABELS file = ./predictions/trial/SS_no1_SR_option1b_Hyper2Hypo_robertabase.tsv\n",
    "OUTPUT file = ./output/trial/SS_no1_SR_option1b_Hyper2Hypo_robertabase.tsv\n",
    "===============   RESULTS  =============\n",
    "\n",
    "MAP@1/Potential@1/Precision@1 = 0.4\n",
    "\n",
    "MAP@3 = 0.3111\n",
    "MAP@5 = 0.2946\n",
    "MAP@10 = 0.1642\n",
    "\n",
    "Potential@3 = 0.8\n",
    "Potential@5 = 1.0\n",
    "Potential@10 = 1.0\n",
    "\n",
    "Accuracy@1@top_gold_1 = 0.3\n",
    "Accuracy@2@top_gold_1 = 0.6\n",
    "Accuracy@3@top_gold_1 = 0.7\n"
   ]
  },
  {
   "cell_type": "markdown",
   "metadata": {},
   "source": [
    "python tsar_eval.py --gold_file ./data/trial/tsar2022_en_trial_gold_no_noise.tsv --predictions_file ./predictions/trial/SS_no1_SR_option1c_Hyper1or2Hypo_robertabase.tsv --output_file ./output/trial/SS_no1_SR_option1c_Hyper1or2Hypo_robertabase.tsv"
   ]
  },
  {
   "cell_type": "raw",
   "metadata": {},
   "source": [
    "=========   EVALUATION config.=========\n",
    "GOLD file = ./data/trial/tsar2022_en_trial_gold_no_noise.tsv\n",
    "PREDICTION LABELS file = ./predictions/trial/SS_no1_SR_option1c_Hyper1or2Hypo_robertabase.tsv\n",
    "OUTPUT file = ./output/trial/SS_no1_SR_option1c_Hyper1or2Hypo_robertabase.tsv\n",
    "===============   RESULTS  =============\n",
    "\n",
    "MAP@1/Potential@1/Precision@1 = 0.3\n",
    "\n",
    "MAP@3 = 0.3277\n",
    "MAP@5 = 0.2976\n",
    "MAP@10 = 0.1703\n",
    "\n",
    "Potential@3 = 0.8\n",
    "Potential@5 = 1.0\n",
    "Potential@10 = 1.0\n",
    "\n",
    "Accuracy@1@top_gold_1 = 0.1\n",
    "Accuracy@2@top_gold_1 = 0.5\n",
    "Accuracy@3@top_gold_1 = 0.6\n"
   ]
  },
  {
   "cell_type": "markdown",
   "metadata": {},
   "source": [
    "python tsar_eval.py --gold_file ./data/trial/tsar2022_en_trial_gold_no_noise.tsv --predictions_file ./predictions/trial/SS_no2_SR_option1a_Hyper1Hypo_robertabase.tsv --output_file ./output/trial/SS_no2_SR_option1a_Hyper1Hypo_robertabase.tsv"
   ]
  },
  {
   "cell_type": "raw",
   "metadata": {},
   "source": [
    "=========   EVALUATION config.=========\n",
    "GOLD file = ./data/trial/tsar2022_en_trial_gold_no_noise.tsv\n",
    "PREDICTION LABELS file = ./predictions/trial/SS_no2_SR_option1a_Hyper1Hypo_robertabase.tsv\n",
    "OUTPUT file = ./output/trial/SS_no2_SR_option1a_Hyper1Hypo_robertabase.tsv\n",
    "===============   RESULTS  =============\n",
    "\n",
    "MAP@1/Potential@1/Precision@1 = 0.2\n",
    "\n",
    "MAP@3 = 0.3166\n",
    "MAP@5 = 0.224\n",
    "MAP@10 = 0.1412\n",
    "\n",
    "Potential@3 = 0.8\n",
    "Potential@5 = 1.0\n",
    "Potential@10 = 1.0\n",
    "\n",
    "Accuracy@1@top_gold_1 = 0.1\n",
    "Accuracy@2@top_gold_1 = 0.5\n",
    "Accuracy@3@top_gold_1 = 0.7\n"
   ]
  },
  {
   "cell_type": "markdown",
   "metadata": {},
   "source": [
    "python tsar_eval.py --gold_file ./data/trial/tsar2022_en_trial_gold_no_noise.tsv --predictions_file ./predictions/trial/SS_no2_SR_option1b_Hyper2Hypo_robertabase.tsv --output_file ./output/trial/SS_no2_SR_option1b_Hyper2Hypo_robertabase.tsv"
   ]
  },
  {
   "cell_type": "raw",
   "metadata": {},
   "source": [
    "=========   EVALUATION config.=========\n",
    "GOLD file = ./data/trial/tsar2022_en_trial_gold_no_noise.tsv\n",
    "PREDICTION LABELS file = ./predictions/trial/SS_no2_SR_option1b_Hyper2Hypo_robertabase.tsv\n",
    "OUTPUT file = ./output/trial/SS_no2_SR_option1b_Hyper2Hypo_robertabase.tsv\n",
    "===============   RESULTS  =============\n",
    "\n",
    "MAP@1/Potential@1/Precision@1 = 0.4\n",
    "\n",
    "MAP@3 = 0.3111\n",
    "MAP@5 = 0.2256\n",
    "MAP@10 = 0.147\n",
    "\n",
    "Potential@3 = 0.8\n",
    "Potential@5 = 1.0\n",
    "Potential@10 = 1.0\n",
    "\n",
    "Accuracy@1@top_gold_1 = 0.3\n",
    "Accuracy@2@top_gold_1 = 0.4\n",
    "Accuracy@3@top_gold_1 = 0.6\n"
   ]
  },
  {
   "cell_type": "markdown",
   "metadata": {},
   "source": [
    "python tsar_eval.py --gold_file ./data/trial/tsar2022_en_trial_gold_no_noise.tsv --predictions_file ./predictions/trial/SS_no2_SR_option1c_Hyper1or2Hypo_robertabase.tsv --output_file ./output/trial/SS_no2_SR_option1c_Hyper1or2Hypo_robertabase.tsv"
   ]
  },
  {
   "cell_type": "raw",
   "metadata": {},
   "source": [
    "=========   EVALUATION config.=========\n",
    "GOLD file = ./data/trial/tsar2022_en_trial_gold_no_noise.tsv\n",
    "PREDICTION LABELS file = ./predictions/trial/SS_no2_SR_option1c_Hyper1or2Hypo_robertabase.tsv\n",
    "OUTPUT file = ./output/trial/SS_no2_SR_option1c_Hyper1or2Hypo_robertabase.tsv\n",
    "===============   RESULTS  =============\n",
    "\n",
    "MAP@1/Potential@1/Precision@1 = 0.2\n",
    "\n",
    "MAP@3 = 0.2888\n",
    "MAP@5 = 0.2173\n",
    "MAP@10 = 0.1379\n",
    "\n",
    "Potential@3 = 0.8\n",
    "Potential@5 = 1.0\n",
    "Potential@10 = 1.0\n",
    "\n",
    "Accuracy@1@top_gold_1 = 0.1\n",
    "Accuracy@2@top_gold_1 = 0.4\n",
    "Accuracy@3@top_gold_1 = 0.7"
   ]
  },
  {
   "cell_type": "markdown",
   "metadata": {},
   "source": [
    "python tsar_eval.py --gold_file ./data/trial/tsar2022_en_trial_gold_no_noise.tsv --predictions_file ./predictions/trial/SS_no3_SR_option1a_Hyper1Hypo_robertabase.tsv --output_file ./output/trial/SS_no3_SR_option1a_Hyper1Hypo_robertabase.tsv"
   ]
  },
  {
   "cell_type": "raw",
   "metadata": {},
   "source": [
    "=========   EVALUATION config.=========\n",
    "GOLD file = ./data/trial/tsar2022_en_trial_gold_no_noise.tsv\n",
    "PREDICTION LABELS file = ./predictions/trial/SS_no3_SR_option1a_Hyper1Hypo_robertabase.tsv\n",
    "OUTPUT file = ./output/trial/SS_no3_SR_option1a_Hyper1Hypo_robertabase.tsv\n",
    "===============   RESULTS  =============\n",
    "\n",
    "MAP@1/Potential@1/Precision@1 = 0.4\n",
    "\n",
    "MAP@3 = 0.2388\n",
    "MAP@5 = 0.2023\n",
    "MAP@10 = 0.1327\n",
    "\n",
    "Potential@3 = 0.7\n",
    "Potential@5 = 0.8\n",
    "Potential@10 = 1.0\n",
    "\n",
    "Accuracy@1@top_gold_1 = 0.3\n",
    "Accuracy@2@top_gold_1 = 0.5\n",
    "Accuracy@3@top_gold_1 = 0.6\n",
    "\n"
   ]
  },
  {
   "cell_type": "markdown",
   "metadata": {},
   "source": [
    "python tsar_eval.py --gold_file ./data/trial/tsar2022_en_trial_gold_no_noise.tsv --predictions_file ./predictions/trial/SS_no3_SR_option1b_Hyper2Hypo_robertabase.tsv --output_file ./output/trial/SS_no3_SR_option1b_Hyper2Hypo_robertabase.tsv"
   ]
  },
  {
   "cell_type": "raw",
   "metadata": {},
   "source": [
    "=========   EVALUATION config.=========\n",
    "GOLD file = ./data/trial/tsar2022_en_trial_gold_no_noise.tsv\n",
    "PREDICTION LABELS file = ./predictions/trial/SS_no3_SR_option1b_Hyper2Hypo_robertabase.tsv\n",
    "OUTPUT file = ./output/trial/SS_no3_SR_option1b_Hyper2Hypo_robertabase.tsv\n",
    "===============   RESULTS  =============\n",
    "\n",
    "MAP@1/Potential@1/Precision@1 = 0.5\n",
    "\n",
    "MAP@3 = 0.3444\n",
    "MAP@5 = 0.2376\n",
    "MAP@10 = 0.1559\n",
    "\n",
    "Potential@3 = 0.8\n",
    "Potential@5 = 0.8\n",
    "Potential@10 = 1.0\n",
    "\n",
    "Accuracy@1@top_gold_1 = 0.3\n",
    "Accuracy@2@top_gold_1 = 0.7\n",
    "Accuracy@3@top_gold_1 = 0.7"
   ]
  },
  {
   "cell_type": "markdown",
   "metadata": {},
   "source": [
    "python tsar_eval.py --gold_file ./data/trial/tsar2022_en_trial_gold_no_noise.tsv --predictions_file ./predictions/trial/SS_no3_SR_option1c_Hyper1or2Hypo_robertabase.tsv --output_file ./output/trial/SS_no3_SR_option1c_Hyper1or2Hypo_robertabase.tsv"
   ]
  },
  {
   "cell_type": "raw",
   "metadata": {},
   "source": [
    "=========   EVALUATION config.=========\n",
    "GOLD file = ./data/trial/tsar2022_en_trial_gold_no_noise.tsv\n",
    "PREDICTION LABELS file = ./predictions/trial/SS_no3_SR_option1c_Hyper1or2Hypo_robertabase.tsv\n",
    "OUTPUT file = ./output/trial/SS_no3_SR_option1c_Hyper1or2Hypo_robertabase.tsv\n",
    "===============   RESULTS  =============\n",
    "\n",
    "MAP@1/Potential@1/Precision@1 = 0.4\n",
    "\n",
    "MAP@3 = 0.2555\n",
    "MAP@5 = 0.2043\n",
    "MAP@10 = 0.138\n",
    "\n",
    "Potential@3 = 0.8\n",
    "Potential@5 = 0.8\n",
    "Potential@10 = 1.0\n",
    "\n",
    "Accuracy@1@top_gold_1 = 0.3\n",
    "Accuracy@2@top_gold_1 = 0.6\n",
    "Accuracy@3@top_gold_1 = 0.6"
   ]
  },
  {
   "cell_type": "markdown",
   "metadata": {},
   "source": [
    "#### Results:\n",
    "Based on the accumulated scores, the best model per strategy (resulting from the final SR step) proceeds to the final evaluation on the test set.\n",
    "\n",
    "For the strategy 'Hypernym-Hyponym Relations', this is the 2-level up Hypernym-Hyponym model: SS_no3_SR_option1b_Hyper2Hypo_robertabase (accum. score: 5.5379; as specified in table 4.13 in section 4.4.1 in the thesis). Model name in thesis: BScore-robertalarge (from SS step phase 2): Hypernyms2-Hyponym.\n",
    "\n",
    "NB All models in the SR step stem from SG with robertabase. "
   ]
  }
 ],
 "metadata": {
  "kernelspec": {
   "display_name": "tensorflow_env",
   "language": "python",
   "name": "tensorflow_env"
  },
  "language_info": {
   "codemirror_mode": {
    "name": "ipython",
    "version": 3
   },
   "file_extension": ".py",
   "mimetype": "text/x-python",
   "name": "python",
   "nbconvert_exporter": "python",
   "pygments_lexer": "ipython3",
   "version": "3.8.16"
  }
 },
 "nbformat": 4,
 "nbformat_minor": 4
}
