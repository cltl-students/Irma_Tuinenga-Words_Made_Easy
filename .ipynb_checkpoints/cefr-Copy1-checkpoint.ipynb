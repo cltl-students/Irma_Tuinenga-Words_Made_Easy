{
 "cells": [
  {
   "cell_type": "code",
   "execution_count": 1,
   "metadata": {},
   "outputs": [],
   "source": [
    "from utils import *"
   ]
  },
  {
   "cell_type": "code",
   "execution_count": 2,
   "metadata": {
    "ExecuteTime": {
     "end_time": "2023-07-13T18:57:13.252472Z",
     "start_time": "2023-07-13T18:57:13.240481Z"
    },
    "collapsed": false,
    "jupyter": {
     "outputs_hidden": false
    }
   },
   "outputs": [],
   "source": [
    "cefr_datasets = ['./cefrj/cefrj_all_treebank.tsv', './cefr_ls/uchida_pos.tsv', './cefr_efllex/EFLLex_mostfreq.tsv']"
   ]
  },
  {
   "cell_type": "code",
   "execution_count": 3,
   "metadata": {
    "ExecuteTime": {
     "end_time": "2023-07-13T18:57:13.263471Z",
     "start_time": "2023-07-13T18:57:13.251475Z"
    },
    "collapsed": false,
    "jupyter": {
     "outputs_hidden": false
    }
   },
   "outputs": [],
   "source": [
    "weighted_datasets = ['./cefr_efllex/EFLLex_weighted.tsv', './cefr_all/cefr_all_combined.tsv']"
   ]
  },
  {
   "cell_type": "code",
   "execution_count": 4,
   "metadata": {
    "ExecuteTime": {
     "end_time": "2023-07-13T18:57:13.307471Z",
     "start_time": "2023-07-13T18:57:13.266474Z"
    },
    "collapsed": false,
    "jupyter": {
     "outputs_hidden": false
    }
   },
   "outputs": [],
   "source": [
    "predictions = ['./predictions/trial/SS_phase2_option2bHyps2first_robertabase.tsv', './predictions/trial/SS_phase2_option1Synsfirst_robertabase.tsv', './predictions/trial/SS_phase2_option3f_BSrobertalarge_robertabase.tsv']"
   ]
  },
  {
   "cell_type": "code",
   "execution_count": 5,
   "metadata": {
    "ExecuteTime": {
     "end_time": "2023-07-13T18:57:29.097498Z",
     "start_time": "2023-07-13T18:57:13.347475Z"
    },
    "collapsed": false,
    "jupyter": {
     "outputs_hidden": false
    }
   },
   "outputs": [
    {
     "name": "stdout",
     "output_type": "stream",
     "text": [
      "SS_no1_SR_option2aCEFR_J_robertabase exported to csv in path './predictions/trial/SS_no1_SR_option2aCEFR_J_robertabase.tsv'\n",
      "\n",
      "SS_no2_SR_option2aCEFR_J_robertabase exported to csv in path './predictions/trial/SS_no2_SR_option2aCEFR_J_robertabase.tsv'\n",
      "\n",
      "SS_no3_SR_option2aCEFR_J_robertabase exported to csv in path './predictions/trial/SS_no3_SR_option2aCEFR_J_robertabase.tsv'\n",
      "\n",
      "SS_no1_SR_option2bCEFR_ls_robertabase exported to csv in path './predictions/trial/SS_no1_SR_option2bCEFR_ls_robertabase.tsv'\n",
      "\n",
      "SS_no2_SR_option2bCEFR_ls_robertabase exported to csv in path './predictions/trial/SS_no2_SR_option2bCEFR_ls_robertabase.tsv'\n",
      "\n",
      "SS_no3_SR_option2bCEFR_ls_robertabase exported to csv in path './predictions/trial/SS_no3_SR_option2bCEFR_ls_robertabase.tsv'\n",
      "\n",
      "SS_no1_SR_option2cCEFR_efl_mostfreq_robertabase exported to csv in path './predictions/trial/SS_no1_SR_option2cCEFR_efl_mostfreq_robertabase.tsv'\n",
      "\n",
      "SS_no2_SR_option2cCEFR_efl_mostfreq_robertabase exported to csv in path './predictions/trial/SS_no2_SR_option2cCEFR_efl_mostfreq_robertabase.tsv'\n",
      "\n",
      "SS_no3_SR_option2cCEFR_efl_mostfreq_robertabase exported to csv in path './predictions/trial/SS_no3_SR_option2cCEFR_efl_mostfreq_robertabase.tsv'\n",
      "\n"
     ]
    }
   ],
   "source": [
    "for dataset in cefr_datasets:\n",
    "    for prediction in predictions:\n",
    "        substitute_ranking_option2_cefr_weighted(dataset, prediction)"
   ]
  },
  {
   "cell_type": "markdown",
   "metadata": {},
   "source": [
    "python tsar_eval.py --gold_file ./data/trial/tsar2022_en_trial_gold_no_noise.tsv --predictions_file ./predictions/trial/SS_no1_SR_option2aCEFR_J_robertabase.tsv --output_file ./output/trial/SS_no1_SR_option2aCEFR_J_robertabase.tsv"
   ]
  },
  {
   "cell_type": "raw",
   "metadata": {},
   "source": [
    "=========   EVALUATION config.=========\n",
    "GOLD file = ./data/trial/tsar2022_en_trial_gold_no_noise.tsv\n",
    "PREDICTION LABELS file = ./predictions/trial/SS_no1_SR_option2aCEFR_J_robertabase.tsv\n",
    "OUTPUT file = ./output/trial/SS_no1_SR_option2aCEFR_J_robertabase.tsv\n",
    "===============   RESULTS  =============\n",
    "\n",
    "MAP@1/Potential@1/Precision@1 = 0.5\n",
    "\n",
    "MAP@3 = 0.2666\n",
    "MAP@5 = 0.253\n",
    "MAP@10 = 0.1532\n",
    "\n",
    "Potential@3 = 0.8\n",
    "Potential@5 = 1.0\n",
    "Potential@10 = 1.0\n",
    "\n",
    "Accuracy@1@top_gold_1 = 0.3\n",
    "Accuracy@2@top_gold_1 = 0.4\n",
    "Accuracy@3@top_gold_1 = 0.5"
   ]
  },
  {
   "cell_type": "markdown",
   "metadata": {},
   "source": [
    "python tsar_eval.py --gold_file ./data/trial/tsar2022_en_trial_gold_no_noise.tsv --predictions_file ./predictions/trial/SS_no1_SR_option2bCEFR_ls_robertabase.tsv --output_file ./output/trial/SS_no1_SR_option2bCEFR_ls_robertabase.tsv"
   ]
  },
  {
   "cell_type": "raw",
   "metadata": {},
   "source": [
    "=========   EVALUATION config.=========\n",
    "GOLD file = ./data/trial/tsar2022_en_trial_gold_no_noise.tsv\n",
    "PREDICTION LABELS file = ./predictions/trial/SS_no1_SR_option2bCEFR_ls_robertabase.tsv\n",
    "OUTPUT file = ./output/trial/SS_no1_SR_option2bCEFR_ls_robertabase.tsv\n",
    "===============   RESULTS  =============\n",
    "\n",
    "MAP@1/Potential@1/Precision@1 = 0.4\n",
    "\n",
    "MAP@3 = 0.2999\n",
    "MAP@5 = 0.304\n",
    "MAP@10 = 0.1639\n",
    "\n",
    "Potential@3 = 0.7\n",
    "Potential@5 = 1.0\n",
    "Potential@10 = 1.0\n",
    "\n",
    "Accuracy@1@top_gold_1 = 0.2\n",
    "Accuracy@2@top_gold_1 = 0.5\n",
    "Accuracy@3@top_gold_1 = 0.5\n"
   ]
  },
  {
   "cell_type": "markdown",
   "metadata": {},
   "source": [
    "python tsar_eval.py --gold_file ./data/trial/tsar2022_en_trial_gold_no_noise.tsv --predictions_file ./predictions/trial/SS_no1_SR_option2cCEFR_efl_mostfreq_robertabase.tsv --output_file ./output/trial/SS_no1_SR_option2cCEFR_efl_mostfreq_robertabase.tsv"
   ]
  },
  {
   "cell_type": "raw",
   "metadata": {},
   "source": [
    "=========   EVALUATION config.=========\n",
    "GOLD file = ./data/trial/tsar2022_en_trial_gold_no_noise.tsv\n",
    "PREDICTION LABELS file = ./predictions/trial/SS_no1_SR_option2cCEFR_efl_mostfreq_robertabase.tsv\n",
    "OUTPUT file = ./output/trial/SS_no1_SR_option2cCEFR_efl_mostfreq_robertabase.tsv\n",
    "===============   RESULTS  =============\n",
    "\n",
    "MAP@1/Potential@1/Precision@1 = 0.4\n",
    "\n",
    "MAP@3 = 0.2611\n",
    "MAP@5 = 0.2506\n",
    "MAP@10 = 0.1516\n",
    "\n",
    "Potential@3 = 0.9\n",
    "Potential@5 = 0.9\n",
    "Potential@10 = 1.0\n",
    "\n",
    "Accuracy@1@top_gold_1 = 0.3\n",
    "Accuracy@2@top_gold_1 = 0.5\n",
    "Accuracy@3@top_gold_1 = 0.7"
   ]
  },
  {
   "cell_type": "markdown",
   "metadata": {},
   "source": [
    "python tsar_eval.py --gold_file ./data/trial/tsar2022_en_trial_gold_no_noise.tsv --predictions_file ./predictions/trial/SS_no2_SR_option2aCEFR_J_robertabase.tsv --output_file ./output/trial/SS_no2_SR_option2aCEFR_J_robertabase.tsv\n"
   ]
  },
  {
   "cell_type": "raw",
   "metadata": {},
   "source": [
    "=========   EVALUATION config.=========\n",
    "GOLD file = ./data/trial/tsar2022_en_trial_gold_no_noise.tsv\n",
    "PREDICTION LABELS file = ./predictions/trial/SS_no2_SR_option2aCEFR_J_robertabase.tsv\n",
    "OUTPUT file = ./output/trial/SS_no2_SR_option2aCEFR_J_robertabase.tsv\n",
    "===============   RESULTS  =============\n",
    "\n",
    "MAP@1/Potential@1/Precision@1 = 0.4\n",
    "\n",
    "MAP@3 = 0.2166\n",
    "MAP@5 = 0.1689\n",
    "MAP@10 = 0.1281\n",
    "\n",
    "Potential@3 = 0.8\n",
    "Potential@5 = 1.0\n",
    "Potential@10 = 1.0\n",
    "\n",
    "Accuracy@1@top_gold_1 = 0.2\n",
    "Accuracy@2@top_gold_1 = 0.2\n",
    "Accuracy@3@top_gold_1 = 0.4"
   ]
  },
  {
   "cell_type": "markdown",
   "metadata": {},
   "source": [
    "python tsar_eval.py --gold_file ./data/trial/tsar2022_en_trial_gold_no_noise.tsv --predictions_file ./predictions/trial/SS_no2_SR_option2bCEFR_ls_robertabase.tsv --output_file ./output/trial/SS_no2_SR_option2bCEFR_ls_robertabase.tsv"
   ]
  },
  {
   "cell_type": "raw",
   "metadata": {},
   "source": [
    "=========   EVALUATION config.=========\n",
    "GOLD file = ./data/trial/tsar2022_en_trial_gold_no_noise.tsv\n",
    "PREDICTION LABELS file = ./predictions/trial/SS_no2_SR_option2bCEFR_ls_robertabase.tsv\n",
    "OUTPUT file = ./output/trial/SS_no2_SR_option2bCEFR_ls_robertabase.tsv\n",
    "===============   RESULTS  =============\n",
    "\n",
    "MAP@1/Potential@1/Precision@1 = 0.3\n",
    "\n",
    "MAP@3 = 0.2611\n",
    "MAP@5 = 0.2256\n",
    "MAP@10 = 0.1416\n",
    "\n",
    "Potential@3 = 0.8\n",
    "Potential@5 = 1.0\n",
    "Potential@10 = 1.0\n",
    "\n",
    "Accuracy@1@top_gold_1 = 0.1\n",
    "Accuracy@2@top_gold_1 = 0.3\n",
    "Accuracy@3@top_gold_1 = 0.5"
   ]
  },
  {
   "cell_type": "markdown",
   "metadata": {},
   "source": [
    "python tsar_eval.py --gold_file ./data/trial/tsar2022_en_trial_gold_no_noise.tsv --predictions_file ./predictions/trial/SS_no2_SR_option2cCEFR_efl_mostfreq_robertabase.tsv --output_file ./output/trial/SS_no2_SR_option2cCEFR_efl_mostfreq_robertabase.tsv"
   ]
  },
  {
   "cell_type": "raw",
   "metadata": {},
   "source": [
    "=========   EVALUATION config.=========\n",
    "GOLD file = ./data/trial/tsar2022_en_trial_gold_no_noise.tsv\n",
    "PREDICTION LABELS file = ./predictions/trial/SS_no2_SR_option2cCEFR_efl_mostfreq_robertabase.tsv\n",
    "OUTPUT file = ./output/trial/SS_no2_SR_option2cCEFR_efl_mostfreq_robertabase.tsv\n",
    "===============   RESULTS  =============\n",
    "\n",
    "MAP@1/Potential@1/Precision@1 = 0.3\n",
    "\n",
    "MAP@3 = 0.2111\n",
    "MAP@5 = 0.1666\n",
    "MAP@10 = 0.1265\n",
    "\n",
    "Potential@3 = 0.9\n",
    "Potential@5 = 0.9\n",
    "Potential@10 = 1.0\n",
    "\n",
    "Accuracy@1@top_gold_1 = 0.2\n",
    "Accuracy@2@top_gold_1 = 0.3\n",
    "Accuracy@3@top_gold_1 = 0.6\n"
   ]
  },
  {
   "cell_type": "markdown",
   "metadata": {},
   "source": [
    "python tsar_eval.py --gold_file ./data/trial/tsar2022_en_trial_gold_no_noise.tsv --predictions_file ./predictions/trial/SS_no3_SR_option2aCEFR_J_robertabase.tsv --output_file ./output/trial/SS_no3_SR_option2aCEFR_J_robertabase.tsv"
   ]
  },
  {
   "cell_type": "raw",
   "metadata": {},
   "source": [
    "=========   EVALUATION config.=========\n",
    "GOLD file = ./data/trial/tsar2022_en_trial_gold_no_noise.tsv\n",
    "PREDICTION LABELS file = ./predictions/trial/SS_no3_SR_option2aCEFR_J_robertabase.tsv\n",
    "OUTPUT file = ./output/trial/SS_no3_SR_option2aCEFR_J_robertabase.tsv\n",
    "===============   RESULTS  =============\n",
    "\n",
    "MAP@1/Potential@1/Precision@1 = 0.5\n",
    "\n",
    "MAP@3 = 0.3166\n",
    "MAP@5 = 0.22\n",
    "MAP@10 = 0.1466\n",
    "\n",
    "Potential@3 = 0.9\n",
    "Potential@5 = 0.9\n",
    "Potential@10 = 1.0\n",
    "\n",
    "Accuracy@1@top_gold_1 = 0.3\n",
    "Accuracy@2@top_gold_1 = 0.7\n",
    "Accuracy@3@top_gold_1 = 0.7"
   ]
  },
  {
   "cell_type": "markdown",
   "metadata": {},
   "source": [
    "python tsar_eval.py --gold_file ./data/trial/tsar2022_en_trial_gold_no_noise.tsv --predictions_file ./predictions/trial/SS_no3_SR_option2bCEFR_ls_robertabase.tsv --output_file ./output/trial/SS_no3_SR_option2bCEFR_ls_robertabase.tsv"
   ]
  },
  {
   "cell_type": "raw",
   "metadata": {},
   "source": [
    "=========   EVALUATION config.=========\n",
    "GOLD file = ./data/trial/tsar2022_en_trial_gold_no_noise.tsv\n",
    "PREDICTION LABELS file = ./predictions/trial/SS_no3_SR_option2bCEFR_ls_robertabase.tsv\n",
    "OUTPUT file = ./output/trial/SS_no3_SR_option2bCEFR_ls_robertabase.tsv\n",
    "===============   RESULTS  =============\n",
    "\n",
    "MAP@1/Potential@1/Precision@1 = 0.6\n",
    "\n",
    "MAP@3 = 0.3444\n",
    "MAP@5 = 0.2326\n",
    "MAP@10 = 0.1529\n",
    "\n",
    "Potential@3 = 0.7\n",
    "Potential@5 = 0.8\n",
    "Potential@10 = 1.0\n",
    "\n",
    "Accuracy@1@top_gold_1 = 0.4\n",
    "Accuracy@2@top_gold_1 = 0.6\n",
    "Accuracy@3@top_gold_1 = 0.6"
   ]
  },
  {
   "cell_type": "markdown",
   "metadata": {},
   "source": [
    "python tsar_eval.py --gold_file ./data/trial/tsar2022_en_trial_gold_no_noise.tsv --predictions_file ./predictions/trial/SS_no3_SR_option2cCEFR_efl_mostfreq_robertabase.tsv --output_file ./output/trial/SS_no3_SR_option2cCEFR_efl_mostfreq_robertabase.tsv"
   ]
  },
  {
   "cell_type": "raw",
   "metadata": {},
   "source": [
    "=========   EVALUATION config.=========\n",
    "GOLD file = ./data/trial/tsar2022_en_trial_gold_no_noise.tsv\n",
    "PREDICTION LABELS file = ./predictions/trial/SS_no3_SR_option2cCEFR_efl_mostfreq_robertabase.tsv\n",
    "OUTPUT file = ./output/trial/SS_no3_SR_option2cCEFR_efl_mostfreq_robertabase.tsv\n",
    "===============   RESULTS  =============\n",
    "\n",
    "MAP@1/Potential@1/Precision@1 = 0.5\n",
    "\n",
    "MAP@3 = 0.2611\n",
    "MAP@5 = 0.2096\n",
    "MAP@10 = 0.1382\n",
    "\n",
    "Potential@3 = 0.7\n",
    "Potential@5 = 0.9\n",
    "Potential@10 = 1.0\n",
    "\n",
    "Accuracy@1@top_gold_1 = 0.3\n",
    "Accuracy@2@top_gold_1 = 0.5\n",
    "Accuracy@3@top_gold_1 = 0.6"
   ]
  },
  {
   "cell_type": "code",
   "execution_count": null,
   "metadata": {},
   "outputs": [],
   "source": []
  },
  {
   "cell_type": "code",
   "execution_count": 6,
   "metadata": {
    "ExecuteTime": {
     "end_time": "2023-07-13T18:57:38.970516Z",
     "start_time": "2023-07-13T18:57:29.100518Z"
    },
    "collapsed": false,
    "jupyter": {
     "outputs_hidden": false
    }
   },
   "outputs": [
    {
     "name": "stdout",
     "output_type": "stream",
     "text": [
      "SS_no1_SR_option2dCEFR_efl_weighted_robertabase exported to csv in path './predictions/trial/SS_no1_SR_option2dCEFR_efl_weighted_robertabase'\n",
      "\n",
      "SS_no2_SR_option2dCEFR_efl_weighted_robertabase exported to csv in path './predictions/trial/SS_no2_SR_option2dCEFR_efl_weighted_robertabase'\n",
      "\n",
      "SS_no3_SR_option2dCEFR_efl_weighted_robertabase exported to csv in path './predictions/trial/SS_no3_SR_option2dCEFR_efl_weighted_robertabase'\n",
      "\n",
      "SS_no1_SR_option2eCEFR_all_robertabase exported to csv in path './predictions/trial/SS_no1_SR_option2eCEFR_all_robertabase'\n",
      "\n",
      "SS_no2_SR_option2eCEFR_all_robertabase exported to csv in path './predictions/trial/SS_no2_SR_option2eCEFR_all_robertabase'\n",
      "\n",
      "SS_no3_SR_option2eCEFR_all_robertabase exported to csv in path './predictions/trial/SS_no3_SR_option2eCEFR_all_robertabase'\n",
      "\n"
     ]
    }
   ],
   "source": [
    "for dataset in weighted_datasets:\n",
    "    for prediction in predictions:\n",
    "        substitute_ranking_option2_cefr_weighted(dataset, prediction)"
   ]
  },
  {
   "cell_type": "markdown",
   "metadata": {
    "ExecuteTime": {
     "end_time": "2023-07-13T18:57:38.985907Z",
     "start_time": "2023-07-13T18:57:38.972511Z"
    },
    "jupyter": {
     "outputs_hidden": false
    }
   },
   "source": [
    "python tsar_eval.py --gold_file ./data/trial/tsar2022_en_trial_gold_no_noise.tsv --predictions_file ./predictions/trial/SS_no1_SR_option2dCEFR_efl_weighted_robertabase.tsv --output_file ./output/trial/SS_no1_SR_option2dCEFR_efl_weighted_robertabase.tsv"
   ]
  },
  {
   "cell_type": "raw",
   "metadata": {},
   "source": [
    "=========   EVALUATION config.=========\n",
    "GOLD file = ./data/trial/tsar2022_en_trial_gold_no_noise.tsv\n",
    "PREDICTION LABELS file = ./predictions/trial/SS_no1_SR_option2dCEFR_efl_weighted_robertabase.tsv\n",
    "OUTPUT file = ./output/trial/SS_no1_SR_option2dCEFR_efl_weighted_robertabase.tsv\n",
    "===============   RESULTS  =============\n",
    "\n",
    "MAP@1/Potential@1/Precision@1 = 0.4\n",
    "\n",
    "MAP@3 = 0.2388\n",
    "MAP@5 = 0.2503\n",
    "MAP@10 = 0.1498\n",
    "\n",
    "Potential@3 = 0.7\n",
    "Potential@5 = 1.0\n",
    "Potential@10 = 1.0\n",
    "\n",
    "Accuracy@1@top_gold_1 = 0.3\n",
    "Accuracy@2@top_gold_1 = 0.5\n",
    "Accuracy@3@top_gold_1 = 0.5"
   ]
  },
  {
   "cell_type": "markdown",
   "metadata": {},
   "source": [
    "python tsar_eval.py --gold_file ./data/trial/tsar2022_en_trial_gold_no_noise.tsv --predictions_file ./predictions/trial/SS_no1_SR_option2eCEFR_all_robertabase.tsv --output_file ./output/trial/SS_no1_SR_option2eCEFR_all_robertabase.tsv"
   ]
  },
  {
   "cell_type": "raw",
   "metadata": {},
   "source": [
    "=========   EVALUATION config.=========\n",
    "GOLD file = ./data/trial/tsar2022_en_trial_gold_no_noise.tsv\n",
    "PREDICTION LABELS file = ./predictions/trial/SS_no1_SR_option2eCEFR_all_robertabase.tsv\n",
    "OUTPUT file = ./output/trial/SS_no1_SR_option2eCEFR_all_robertabase.tsv\n",
    "===============   RESULTS  =============\n",
    "\n",
    "MAP@1/Potential@1/Precision@1 = 0.3\n",
    "\n",
    "MAP@3 = 0.2222\n",
    "MAP@5 = 0.2323\n",
    "MAP@10 = 0.1424\n",
    "\n",
    "Potential@3 = 0.7\n",
    "Potential@5 = 1.0\n",
    "Potential@10 = 1.0\n",
    "\n",
    "Accuracy@1@top_gold_1 = 0.2\n",
    "Accuracy@2@top_gold_1 = 0.4\n",
    "Accuracy@3@top_gold_1 = 0.4\n"
   ]
  },
  {
   "cell_type": "markdown",
   "metadata": {},
   "source": [
    "python tsar_eval.py --gold_file ./data/trial/tsar2022_en_trial_gold_no_noise.tsv --predictions_file ./predictions/trial/SS_no2_SR_option2dCEFR_efl_weigthed_robertabase.tsv --output_file ./output/trial/SS_no2_SR_option2dCEFR_efl_weigthed_robertabase.tsv"
   ]
  },
  {
   "cell_type": "raw",
   "metadata": {},
   "source": [
    "=========   EVALUATION config.=========\n",
    "GOLD file = ./data/trial/tsar2022_en_trial_gold_no_noise.tsv\n",
    "PREDICTION LABELS file = ./predictions/trial/SS_no2_SR_option2dCEFR_efl_weigthed_robertabase.tsv\n",
    "OUTPUT file = ./output/trial/SS_no2_SR_option2dCEFR_efl_weigthed_robertabase.tsv\n",
    "===============   RESULTS  =============\n",
    "\n",
    "MAP@1/Potential@1/Precision@1 = 0.3\n",
    "\n",
    "MAP@3 = 0.1888\n",
    "MAP@5 = 0.1663\n",
    "MAP@10 = 0.1247\n",
    "\n",
    "Potential@3 = 0.7\n",
    "Potential@5 = 1.0\n",
    "Potential@10 = 1.0\n",
    "\n",
    "Accuracy@1@top_gold_1 = 0.2\n",
    "Accuracy@2@top_gold_1 = 0.3\n",
    "Accuracy@3@top_gold_1 = 0.4"
   ]
  },
  {
   "cell_type": "markdown",
   "metadata": {},
   "source": [
    "python tsar_eval.py --gold_file ./data/trial/tsar2022_en_trial_gold_no_noise.tsv --predictions_file ./predictions/trial/SS_no2_SR_option2eCEFR_all_robertabase.tsv --output_file ./output/trial/SS_no2_SR_option2eCEFR_all_robertabase.tsv"
   ]
  },
  {
   "cell_type": "raw",
   "metadata": {},
   "source": [
    "=========   EVALUATION config.=========\n",
    "GOLD file = ./data/trial/tsar2022_en_trial_gold_no_noise.tsv\n",
    "PREDICTION LABELS file = ./predictions/trial/SS_no2_SR_option2eCEFR_all_robertabase.tsv\n",
    "OUTPUT file = ./output/trial/SS_no2_SR_option2eCEFR_all_robertabase.tsv\n",
    "===============   RESULTS  =============\n",
    "\n",
    "MAP@1/Potential@1/Precision@1 = 0.2\n",
    "\n",
    "MAP@3 = 0.1722\n",
    "MAP@5 = 0.1483\n",
    "MAP@10 = 0.1173\n",
    "\n",
    "Potential@3 = 0.7\n",
    "Potential@5 = 1.0\n",
    "Potential@10 = 1.0\n",
    "\n",
    "Accuracy@1@top_gold_1 = 0.1\n",
    "Accuracy@2@top_gold_1 = 0.2\n",
    "Accuracy@3@top_gold_1 = 0.3\n"
   ]
  },
  {
   "cell_type": "markdown",
   "metadata": {},
   "source": [
    "python tsar_eval.py --gold_file ./data/trial/tsar2022_en_trial_gold_no_noise.tsv --predictions_file ./predictions/trial/SS_no3_SR_option2dCEFR_efl_weigthed_robertabase.tsv --output_file ./output/trial/SS_no3_SR_option2dCEFR_efl_weigthed_robertabase.tsv"
   ]
  },
  {
   "cell_type": "raw",
   "metadata": {},
   "source": [
    "=========   EVALUATION config.=========\n",
    "GOLD file = ./data/trial/tsar2022_en_trial_gold_no_noise.tsv\n",
    "PREDICTION LABELS file = ./predictions/trial/SS_no3_SR_option2dCEFR_efl_weigthed_robertabase.tsv\n",
    "OUTPUT file = ./output/trial/SS_no3_SR_option2dCEFR_efl_weigthed_robertabase.tsv\n",
    "===============   RESULTS  =============\n",
    "\n",
    "MAP@1/Potential@1/Precision@1 = 0.6\n",
    "\n",
    "MAP@3 = 0.3277\n",
    "MAP@5 = 0.2406\n",
    "MAP@10 = 0.1512\n",
    "\n",
    "Potential@3 = 0.9\n",
    "Potential@5 = 0.9\n",
    "Potential@10 = 1.0\n",
    "\n",
    "Accuracy@1@top_gold_1 = 0.4\n",
    "Accuracy@2@top_gold_1 = 0.6\n",
    "Accuracy@3@top_gold_1 = 0.7"
   ]
  },
  {
   "cell_type": "markdown",
   "metadata": {},
   "source": [
    "python tsar_eval.py --gold_file ./data/trial/tsar2022_en_trial_gold_no_noise.tsv --predictions_file ./predictions/trial/SS_no3_SR_option2eCEFR_all_robertabase.tsv --output_file ./output/trial/SS_no3_SR_option2eCEFR_all_robertabase.tsv"
   ]
  },
  {
   "cell_type": "raw",
   "metadata": {},
   "source": [
    "=========   EVALUATION config.=========\n",
    "GOLD file = ./data/trial/tsar2022_en_trial_gold_no_noise.tsv\n",
    "PREDICTION LABELS file = ./predictions/trial/SS_no3_SR_option2eCEFR_all_robertabase.tsv\n",
    "OUTPUT file = ./output/trial/SS_no3_SR_option2eCEFR_all_robertabase.tsv\n",
    "===============   RESULTS  =============\n",
    "\n",
    "MAP@1/Potential@1/Precision@1 = 0.7\n",
    "\n",
    "MAP@3 = 0.3333\n",
    "MAP@5 = 0.242\n",
    "MAP@10 = 0.1569\n",
    "\n",
    "Potential@3 = 0.9\n",
    "Potential@5 = 0.9\n",
    "Potential@10 = 1.0\n",
    "\n",
    "Accuracy@1@top_gold_1 = 0.4\n",
    "Accuracy@2@top_gold_1 = 0.7\n",
    "Accuracy@3@top_gold_1 = 0.7"
   ]
  },
  {
   "cell_type": "markdown",
   "metadata": {},
   "source": [
    "### Results:\n",
    "Based on the accumulated scores, the best model per strategy (resulting from the final SR step) proceeds to the final evaluation on the test set.\n",
    "\n",
    "For the strategy 'CEFR Levels', this is the model based on the combined CEFR dataset: SS_no3_SR_option2eCEFR_all_robertabase (accum. score: 6.0322, as specified in table 4.15 in section 4.4.2 in the thesis). Model name in thesis: BScore-robertalarge (from SS step phase 2): CEFR-all."
   ]
  }
 ],
 "metadata": {
  "kernelspec": {
   "display_name": "tensorflow_env",
   "language": "python",
   "name": "tensorflow_env"
  },
  "language_info": {
   "codemirror_mode": {
    "name": "ipython",
    "version": 3
   },
   "file_extension": ".py",
   "mimetype": "text/x-python",
   "name": "python",
   "nbconvert_exporter": "python",
   "pygments_lexer": "ipython3",
   "version": "3.8.16"
  }
 },
 "nbformat": 4,
 "nbformat_minor": 4
}
