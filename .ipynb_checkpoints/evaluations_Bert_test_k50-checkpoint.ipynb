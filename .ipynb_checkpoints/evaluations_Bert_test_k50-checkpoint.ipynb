{
 "cells": [
  {
   "cell_type": "markdown",
   "id": "0085fb59-3709-4063-b22e-73a011dbb414",
   "metadata": {},
   "source": [
    "#### Evaluations BERT for the test set (300+ sentences) with k=50 to apply Bertscore to"
   ]
  },
  {
   "cell_type": "code",
   "execution_count": 1,
   "id": "5683d06d-2380-4e93-bd91-fa8787d8f31c",
   "metadata": {},
   "outputs": [],
   "source": [
    "from transformers import AutoTokenizer, AutoModelForMaskedLM\n",
    "import pandas as pd\n",
    "from transformers import pipeline\n",
    "\n",
    "# read the tsv file\n",
    "filename = \"./data/test/tsar2022_en_test_none_no_noise.tsv\"\n",
    "data = pd.read_csv(filename, sep='\\t', header=None, names=[\"sentence\", \"complex_word\"])\n",
    "\n",
    "# create an empty dataframe to store the substitutes for evaluation\n",
    "substitutes_df = pd.DataFrame(columns=[\"sentence\", \"complex_word\"] + [f\"substitute_{i+1}\" for i in range(10)])\n"
   ]
  },
  {
   "cell_type": "code",
   "execution_count": 3,
   "id": "0009449d-71e8-4be9-989d-722bbbd02202",
   "metadata": {},
   "outputs": [],
   "source": [
    "import logging"
   ]
  },
  {
   "cell_type": "code",
   "execution_count": 4,
   "id": "bc147290-d88e-4c2b-94bc-9e21f266759f",
   "metadata": {},
   "outputs": [],
   "source": [
    "# the code below is used for morphological adjustments in step MA\n",
    "from nltk.corpus import wordnet as wn\n",
    "import spacy\n",
    "nlp = spacy.load(\"en_core_web_sm\")\n",
    "\n",
    "import string"
   ]
  },
  {
   "cell_type": "code",
   "execution_count": 5,
   "id": "46dbbc20-f729-4e8e-82bf-67373cba2f74",
   "metadata": {},
   "outputs": [],
   "source": [
    "# the code below is used when word embeddings are used in step SS\n",
    "from transformers import TFAutoModel\n",
    "import tensorflow as tf\n",
    "import numpy as np"
   ]
  },
  {
   "cell_type": "code",
   "execution_count": 6,
   "id": "15c75960-7777-4ac2-a607-15725beaedf8",
   "metadata": {},
   "outputs": [],
   "source": [
    "# the code below is used when Bertscore is used in step SS\n",
    "import bert_score\n",
    "from bert_score import score"
   ]
  },
  {
   "cell_type": "code",
   "execution_count": 7,
   "id": "7beb261e-7d45-4254-aec6-7d6be569902c",
   "metadata": {},
   "outputs": [],
   "source": [
    "# set the display.max_rows option to None to display all rows instead of limiting it to 50\n",
    "pd.set_option('display.max_rows', None)"
   ]
  },
  {
   "cell_type": "markdown",
   "id": "4ffa3af3-857e-4db9-99b4-38c34eff6a23",
   "metadata": {},
   "source": [
    "#### Bert-base-uncased"
   ]
  },
  {
   "cell_type": "code",
   "execution_count": 8,
   "id": "b6f19cfd-81d2-4e7a-b664-c070d9df5d4f",
   "metadata": {},
   "outputs": [
    {
     "name": "stderr",
     "output_type": "stream",
     "text": [
      "Some weights of the model checkpoint at bert-base-uncased were not used when initializing BertForMaskedLM: ['cls.seq_relationship.weight', 'cls.seq_relationship.bias']\n",
      "- This IS expected if you are initializing BertForMaskedLM from the checkpoint of a model trained on another task or with another architecture (e.g. initializing a BertForSequenceClassification model from a BertForPreTraining model).\n",
      "- This IS NOT expected if you are initializing BertForMaskedLM from the checkpoint of a model that you expect to be exactly identical (initializing a BertForSequenceClassification model from a BertForSequenceClassification model).\n"
     ]
    }
   ],
   "source": [
    "# Instantiate the tokenizer and the model\n",
    "\n",
    "# for bert-base:\n",
    "lm_tokenizer_bertbase = AutoTokenizer.from_pretrained(\"bert-base-uncased\")\n",
    "lm_model_bertbase = AutoModelForMaskedLM.from_pretrained(\"bert-base-uncased\")\n",
    "\n",
    "\n",
    "# Instantiate the fill-mask pipeline with the model\n",
    "fill_mask_bertbase = pipeline(\"fill-mask\", lm_model_bertbase, tokenizer = lm_tokenizer_bertbase)"
   ]
  },
  {
   "cell_type": "markdown",
   "id": "8bc036c5-6a1e-4e71-a184-b2201ac7baf7",
   "metadata": {},
   "source": [
    "#### Substitute Generation, Morphological Adaptation, and BertScore:"
   ]
  },
  {
   "cell_type": "markdown",
   "id": "ab24ac95-41b7-4dc0-bd9c-77a91a7e4f4b",
   "metadata": {},
   "source": [
    "##### BErtscore based on BERT:"
   ]
  },
  {
   "cell_type": "code",
   "execution_count": 9,
   "id": "c504ebf4-576b-4370-8345-2492ac65fc5e",
   "metadata": {},
   "outputs": [
    {
     "name": "stdout",
     "output_type": "stream",
     "text": [
      "BertBase_SG_MA_SS_bsBert_k50 exported to csv in path './predictions/trial/BertBase_SG_MA_SS_bsBert_k50.tsv'}\n",
      "\n"
     ]
    }
   ],
   "source": [
    "# in each row, for each complex word: \n",
    "for index, row in data.iterrows():\n",
    "    \n",
    "    # print the sentence and the complex word\n",
    "    sentence, complex_word = row[\"sentence\"], row[\"complex_word\"]\n",
    "    #print(f\"Sentence: {sentence}\")\n",
    "    #print(f\"Complex word: {complex_word}\")\n",
    "    \n",
    "    \n",
    "    # for bertbase model:\n",
    "       \n",
    "    # 1. Substitute Generation (SG): perform masking and generate substitutes:\n",
    "\n",
    "    ## in the sentence, replace the complex word with a masked word\n",
    "    sentence_masked_word_bertbase = sentence.replace(complex_word, lm_tokenizer_bertbase.mask_token)\n",
    "\n",
    "    ## concatenate the original sentence and the masked sentence\n",
    "    sentences_concat_bertbase = f\"{sentence} {lm_tokenizer_bertbase.sep_token} {sentence_masked_word_bertbase}\"\n",
    "\n",
    "    ## generate and rank candidate substitutes for the masked word using the fill_mask pipeline (removing elements without token_str key; as this gave errors in the ELECTRA models) .\n",
    "    top_k = 50\n",
    "    result_bertbase = fill_mask_bertbase(sentences_concat_bertbase, top_k=top_k)\n",
    "    substitutes_bertbase = [substitute[\"token_str\"] for substitute in result_bertbase if \"token_str\" in substitute]\n",
    "    #print(f\"Substitute Generation step: initial substitute list: {substitutes_bertbase}\\n\")\n",
    "\n",
    "\n",
    "    #2: Morphological Generation and Context Adaptation (Morphological Adaptation):  \n",
    "    ## a) remove noise in the substitutes, by ignoring generated substitutes that are empty or that have unwanted punctuation characters or that start with '##' (this returned errors with the ELECTRA model), and lowercase the substitutes (as some models don't lowercase by default)\n",
    "    ## and lowercase all substitutes. Use try/except statement to prevent other character-related problems to happen\n",
    "\n",
    "    punctuation_set = set(string.punctuation) - set('-') # retained hyphens in case tokenizers don't split on hyphenated compounds\n",
    "    punctuation_set.update({'“','”'})   # as these curly quotes appeared in the Electra (SG step) results but were not part of the string set\n",
    "\n",
    "    try:\n",
    "        substitutes_bertbase = [substitute[\"token_str\"].lower().strip() for substitute in result_bertbase if not any(char in punctuation_set for char in substitute[\"token_str\"]) # added .strip as roberta uses a leading space before each substitute\n",
    "                      and not substitute[\"token_str\"].startswith('##') and substitute[\"token_str\"].strip() != \"\"]\n",
    "        # print(f\"Morphological Adaptation step a): substitute list without unwanted punctuation characters for bertbase model: {substitutes_bertbase}\\n\")\n",
    "    except TypeError as error:\n",
    "        continue\n",
    "\n",
    "\n",
    "\n",
    "    ## b) remove duplicates within the substitute list from the substitute list (duplicates are likely for models that did not lowercase by default)\n",
    "    ## the last mentioned duplicate is removed on purpose, as this may probably be the (previously) uppercased variant of the lowercased substitute (lowercased subs are most likely higher ranked by the model)\n",
    "    substitutes_no_dupl_bertbase = []\n",
    "    for sub in substitutes_bertbase:\n",
    "        if sub not in substitutes_no_dupl_bertbase:\n",
    "            substitutes_no_dupl_bertbase.append(sub)\n",
    "    #print(f\"Morphological Adaptation step b): substitute list without duplicates of substitutes for bertbase model: {substitutes_no_dupl_bertbase}\\n\")\n",
    "\n",
    "\n",
    "\n",
    "    ## c) remove duplicates and inflected forms of the complex word from the substitute list\n",
    "\n",
    "    ## first Lemmatize the complex word with spaCy, in order to compare it with the lemmatized substitute later to see if their mutual lemmas are the same\n",
    "    doc_complex_word = nlp(complex_word)\n",
    "    complex_word_lemma = doc_complex_word[0].lemma_\n",
    "    #print(f\"complex_word_lemma for complex word '{complex_word}': {complex_word_lemma}\\n\")\n",
    "\n",
    "\n",
    "    ## then, remove duplicates and inflected forms of the complex word from the list with substitutes\n",
    "    substitutes_no_dupl_complex_word_bertbase = []\n",
    "    for substitute in substitutes_no_dupl_bertbase:\n",
    "        doc_substitute = nlp(substitute)\n",
    "        substitute_lemma = doc_substitute[0].lemma_\n",
    "        if substitute_lemma != complex_word_lemma:\n",
    "            substitutes_no_dupl_complex_word_bertbase.append(substitute)\n",
    "    #print(f\"Morphological Adaptation step c): substitute list without duplicates of the complex word nor inflected forms of the complex word for bertbase model: {substitutes_no_dupl_complex_word_bertbase}\\n\")\n",
    "\n",
    "\n",
    "     ## d) remove antonyms of the complex word from the substitute list\n",
    "    ## step 1: get the antonyms of the complex word\n",
    "    antonyms_complex_word = []\n",
    "    for syn in wn.synsets(complex_word_lemma):\n",
    "        for lemma in syn.lemmas():\n",
    "            for antonym in lemma.antonyms():\n",
    "                    antonyms_complex_word.append(antonym.name())\n",
    "\n",
    "    #print(f\"Antonyms for complex word '{complex_word}': {antonyms_complex_word}\\n\")\n",
    "\n",
    "    ## step 2: remove antonyms of the complex word from the list with substitutes\n",
    "    substitutes_no_antonyms_bertbase = []\n",
    "    for substitute in substitutes_no_dupl_complex_word_bertbase:\n",
    "        doc_substitute = nlp(substitute)\n",
    "        substitute_lemma = doc_substitute[0].lemma_\n",
    "        if substitute_lemma not in antonyms_complex_word:\n",
    "            substitutes_no_antonyms_bertbase.append(substitute)\n",
    "        # else:\n",
    "        #     print(f\"Removed antonym: {substitute}\")\n",
    "    #print(f\"Morphological Adaptation step d): substitute list without antonyms of the complex word for bertbase model: {substitutes_no_antonyms_bertbase}\\n\") \n",
    "  \n",
    "    \n",
    "    \n",
    "    \n",
    "    #3: Substitute Selection (SS) by calculating Bert scores: \n",
    "\n",
    "    ## create sentence with the complex word replaced by the substitutes\n",
    "    sentence_with_substitutes = [sentence.replace(complex_word, sub) for sub in substitutes_no_antonyms_bertbase]\n",
    "    #print(f\"List with sentences where complex word is substituted: {sentence_with_substitutes}\\n\")\n",
    "\n",
    "\n",
    "    ## calculate BERTScores, and rank the substitutes based on these scores\n",
    "    if len(sentence_with_substitutes) > 0: # to make sure the list with substitutes is always filled\n",
    "        logging.getLogger('transformers').setLevel(logging.ERROR)  # to prevent the same warnings from being printed x times \n",
    "        scores = bert_score.score([sentence]*len(sentence_with_substitutes), sentence_with_substitutes, lang=\"en\", model_type='bert-base-uncased', verbose=False)\n",
    "        logging.getLogger('transformers').setLevel(logging.WARNING) # to reset the logging level back to printing warnings\n",
    "        \n",
    "        # create a list of tuples, each tuple containing a substitute and its score\n",
    "        substitute_score_pairs = list(zip(substitutes_no_antonyms_bertbase, scores[0].tolist()))\n",
    "\n",
    "        # sort the list of tuples by the scores (the second element of each tuple), in descending order\n",
    "        sorted_substitute_score_pairs = sorted(substitute_score_pairs, key=lambda x: x[1], reverse=True)\n",
    "\n",
    "        # # print each substitute with its score\n",
    "        # for substitute, score in sorted_substitute_score_pairs:\n",
    "        #     print(f\"Substitute: {substitute}, BertScore: {score}\")\n",
    "\n",
    "        # extract the list of substitutes from the sorted pairs\n",
    "        bertscore_ranked_substitutes_only = [substitute for substitute, _ in sorted_substitute_score_pairs]\n",
    "        #print(f\"substitutes based on bertscores in context: {bertscore_ranked_substitutes_only}\\n\")\n",
    "\n",
    "        # limit the substitutes to the 10 first ones for evaluation\n",
    "        bertscore_top_10_substitutes = bertscore_ranked_substitutes_only[:10]\n",
    "        #print(f\"top-10 substitutes based on bertscores in context: {bertscore_top_10_substitutes}\\n\")\n",
    "\n",
    "    else:\n",
    "        bertscore_top_10_substitutes = []\n",
    "\n",
    "\n",
    "    # add the sentence, complex_word, and substitutes to the dataframe \n",
    "    substitutes_df.loc[index] = [sentence, complex_word] + bertscore_top_10_substitutes\n",
    "\n",
    "    #print('---------------------------------------------------------------------------------------------------------------------------------------------')\n",
    "   \n",
    "    \n",
    "    \n",
    "# export the dataframe to a tsv file for evaluation\n",
    "substitutes_df.to_csv(\"./predictions/test/BertBase_SG_MA_SS_bsBert_k50.tsv\", sep=\"\\t\", index=False, header=False)\n",
    "print(\"BertBase_SG_MA_SS_bsBert_k50 exported to csv in path './predictions/test/BertBase_SG_MA_SS_bsBert_k50.tsv'}\\n\")"
   ]
  },
  {
   "cell_type": "markdown",
   "id": "e1dbfa50-213d-4d26-afce-1df5ce5b539a",
   "metadata": {},
   "source": [
    "python tsar_eval.py --gold_file ./data/test/tsar2022_en_test_gold_no_noise.tsv --predictions_file ./predictions/test/BertBase_SG_MA_SS_bsBert_k50.tsv --output_file ./output/test/BertBase_SG_MA_SS_bsBert_k50.tsv"
   ]
  },
  {
   "cell_type": "raw",
   "id": "200eac4b-d783-4c11-a56e-61cbf22cc7c6",
   "metadata": {},
   "source": [
    "MA_SS_bsBert_k50.tsv\n",
    "=========   EVALUATION config.=========\n",
    "GOLD file = ./data/test/tsar2022_en_test_gold_no_noise.tsv\n",
    "PREDICTION LABELS file = ./predictions/test/BertBase_SG_MA_SS_bsBert_k50.tsv\n",
    "OUTPUT file = ./output/test/BertBase_SG_MA_SS_bsBert_k50.tsv\n",
    "===============   RESULTS  =============\n",
    "\n",
    "MAP@1/Potential@1/Precision@1 = 0.5725\n",
    "\n",
    "MAP@3 = 0.403\n",
    "MAP@5 = 0.2982\n",
    "MAP@10 = 0.1805\n",
    "\n",
    "Potential@3 = 0.8091\n",
    "Potential@5 = 0.8951\n",
    "Potential@10 = 0.9408\n",
    "\n",
    "Accuracy@1@top_gold_1 = 0.2284\n",
    "Accuracy@2@top_gold_1 = 0.3763\n",
    "Accuracy@3@top_gold_1 = 0.4596"
   ]
  },
  {
   "cell_type": "markdown",
   "id": "ec57fe3e-ffe7-4b29-80ea-15bebc7b0115",
   "metadata": {},
   "source": [
    "#### bertscore based on electra:"
   ]
  },
  {
   "cell_type": "code",
   "execution_count": 11,
   "id": "0bac6d84-61f2-445c-b37b-f75eba2dbdd8",
   "metadata": {},
   "outputs": [
    {
     "name": "stdout",
     "output_type": "stream",
     "text": [
      "BertBase_SG_MA_SS_bsElectra_k50 exported to csv in path './predictions/trial/BertBase_SG_MA_SS_bsElectra_k50.tsv'}\n",
      "\n"
     ]
    }
   ],
   "source": [
    "# in each row, for each complex word: \n",
    "for index, row in data.iterrows():\n",
    "    \n",
    "    # print the sentence and the complex word\n",
    "    sentence, complex_word = row[\"sentence\"], row[\"complex_word\"]\n",
    "    #print(f\"Sentence: {sentence}\")\n",
    "    #print(f\"Complex word: {complex_word}\")\n",
    "    \n",
    "    \n",
    "    # for bertbase model:\n",
    "       \n",
    "    # 1. Substitute Generation (SG): perform masking and generate substitutes:\n",
    "\n",
    "    ## in the sentence, replace the complex word with a masked word\n",
    "    sentence_masked_word_bertbase = sentence.replace(complex_word, lm_tokenizer_bertbase.mask_token)\n",
    "\n",
    "    ## concatenate the original sentence and the masked sentence\n",
    "    sentences_concat_bertbase = f\"{sentence} {lm_tokenizer_bertbase.sep_token} {sentence_masked_word_bertbase}\"\n",
    "\n",
    "    ## generate and rank candidate substitutes for the masked word using the fill_mask pipeline (removing elements without token_str key; as this gave errors in the ELECTRA models) .\n",
    "    top_k = 50\n",
    "    result_bertbase = fill_mask_bertbase(sentences_concat_bertbase, top_k=top_k)\n",
    "    substitutes_bertbase = [substitute[\"token_str\"] for substitute in result_bertbase if \"token_str\" in substitute]\n",
    "    #print(f\"Substitute Generation step: initial substitute list: {substitutes_bertbase}\\n\")\n",
    "\n",
    "\n",
    "    #2: Morphological Generation and Context Adaptation (Morphological Adaptation):  \n",
    "    ## a) remove noise in the substitutes, by ignoring generated substitutes that are empty or that have unwanted punctuation characters or that start with '##' (this returned errors with the ELECTRA model), and lowercase the substitutes (as some models don't lowercase by default)\n",
    "    ## and lowercase all substitutes. Use try/except statement to prevent other character-related problems to happen\n",
    "\n",
    "    punctuation_set = set(string.punctuation) - set('-') # retained hyphens in case tokenizers don't split on hyphenated compounds\n",
    "    punctuation_set.update({'“','”'})   # as these curly quotes appeared in the Electra (SG step) results but were not part of the string set\n",
    "\n",
    "    try:\n",
    "        substitutes_bertbase = [substitute[\"token_str\"].lower().strip() for substitute in result_bertbase if not any(char in punctuation_set for char in substitute[\"token_str\"]) # added .strip as roberta uses a leading space before each substitute\n",
    "                      and not substitute[\"token_str\"].startswith('##') and substitute[\"token_str\"].strip() != \"\"]\n",
    "        # print(f\"Morphological Adaptation step a): substitute list without unwanted punctuation characters for bertbase model: {substitutes_bertbase}\\n\")\n",
    "    except TypeError as error:\n",
    "        continue\n",
    "\n",
    "\n",
    "\n",
    "    ## b) remove duplicates within the substitute list from the substitute list (duplicates are likely for models that did not lowercase by default)\n",
    "    ## the last mentioned duplicate is removed on purpose, as this may probably be the (previously) uppercased variant of the lowercased substitute (lowercased subs are most likely higher ranked by the model)\n",
    "    substitutes_no_dupl_bertbase = []\n",
    "    for sub in substitutes_bertbase:\n",
    "        if sub not in substitutes_no_dupl_bertbase:\n",
    "            substitutes_no_dupl_bertbase.append(sub)\n",
    "    #print(f\"Morphological Adaptation step b): substitute list without duplicates of substitutes for bertbase model: {substitutes_no_dupl_bertbase}\\n\")\n",
    "\n",
    "\n",
    "\n",
    "    ## c) remove duplicates and inflected forms of the complex word from the substitute list\n",
    "\n",
    "    ## first Lemmatize the complex word with spaCy, in order to compare it with the lemmatized substitute later to see if their mutual lemmas are the same\n",
    "    doc_complex_word = nlp(complex_word)\n",
    "    complex_word_lemma = doc_complex_word[0].lemma_\n",
    "    #print(f\"complex_word_lemma for complex word '{complex_word}': {complex_word_lemma}\\n\")\n",
    "\n",
    "\n",
    "    ## then, remove duplicates and inflected forms of the complex word from the list with substitutes\n",
    "    substitutes_no_dupl_complex_word_bertbase = []\n",
    "    for substitute in substitutes_no_dupl_bertbase:\n",
    "        doc_substitute = nlp(substitute)\n",
    "        substitute_lemma = doc_substitute[0].lemma_\n",
    "        if substitute_lemma != complex_word_lemma:\n",
    "            substitutes_no_dupl_complex_word_bertbase.append(substitute)\n",
    "    #print(f\"Morphological Adaptation step c): substitute list without duplicates of the complex word nor inflected forms of the complex word for bertbase model: {substitutes_no_dupl_complex_word_bertbase}\\n\")\n",
    "\n",
    "\n",
    "     ## d) remove antonyms of the complex word from the substitute list\n",
    "    ## step 1: get the antonyms of the complex word\n",
    "    antonyms_complex_word = []\n",
    "    for syn in wn.synsets(complex_word_lemma):\n",
    "        for lemma in syn.lemmas():\n",
    "            for antonym in lemma.antonyms():\n",
    "                    antonyms_complex_word.append(antonym.name())\n",
    "\n",
    "    #print(f\"Antonyms for complex word '{complex_word}': {antonyms_complex_word}\\n\")\n",
    "\n",
    "    ## step 2: remove antonyms of the complex word from the list with substitutes\n",
    "    substitutes_no_antonyms_bertbase = []\n",
    "    for substitute in substitutes_no_dupl_complex_word_bertbase:\n",
    "        doc_substitute = nlp(substitute)\n",
    "        substitute_lemma = doc_substitute[0].lemma_\n",
    "        if substitute_lemma not in antonyms_complex_word:\n",
    "            substitutes_no_antonyms_bertbase.append(substitute)\n",
    "        # else:\n",
    "        #     print(f\"Removed antonym: {substitute}\")\n",
    "    #print(f\"Morphological Adaptation step d): substitute list without antonyms of the complex word for bertbase model: {substitutes_no_antonyms_bertbase}\\n\") \n",
    "  \n",
    "    \n",
    "    \n",
    "    \n",
    "    #3: Substitute Selection (SS) by calculating Bertscores: \n",
    "    ## create sentence with the complex word replaced by the substitutes\n",
    "    sentence_with_substitutes = [sentence.replace(complex_word, sub) for sub in substitutes_no_antonyms_bertbase]\n",
    "    #print(f\"List with sentences where complex word is substituted: {sentence_with_substitutes}\\n\")\n",
    "\n",
    "\n",
    "    ## calculate BERTScores, and rank the substitutes based on these scores\n",
    "    if len(sentence_with_substitutes) > 0: # to make sure the list with substitutes is always filled\n",
    "        logging.getLogger('transformers').setLevel(logging.ERROR)  # to prevent the same warnings from being printed x times \n",
    "        scores = bert_score.score([sentence]*len(sentence_with_substitutes), sentence_with_substitutes, lang=\"en\", model_type='google/electra-base-generator', verbose=False)\n",
    "        logging.getLogger('transformers').setLevel(logging.WARNING) # to reset the logging level back to printing warnings\n",
    "    \n",
    "        # create a list of tuples, each tuple containing a substitute and its score\n",
    "        substitute_score_pairs = list(zip(substitutes_no_antonyms_bertbase, scores[0].tolist()))\n",
    "\n",
    "        # sort the list of tuples by the scores (the second element of each tuple), in descending order\n",
    "        sorted_substitute_score_pairs = sorted(substitute_score_pairs, key=lambda x: x[1], reverse=True)\n",
    "\n",
    "        # print each substitute with its score\n",
    "        # for substitute, score in sorted_substitute_score_pairs:\n",
    "        #     print(f\"Substitute: {substitute}, BertScore: {score}\")\n",
    "\n",
    "        # extract the list of substitutes from the sorted pairs\n",
    "        bertscore_ranked_substitutes_only = [substitute for substitute, _ in sorted_substitute_score_pairs]\n",
    "        #print(f\"substitutes based on bertscores in context: {bertscore_ranked_substitutes_only}\\n\")\n",
    "\n",
    "        # limit the substitutes to the 10 first ones for evaluation\n",
    "        bertscore_top_10_substitutes = bertscore_ranked_substitutes_only[:10]\n",
    "        #print(f\"top-10 substitutes based on bertscores in context: {bertscore_top_10_substitutes}\\n\")\n",
    "\n",
    "    else:\n",
    "        bertscore_top_10_substitutes = []\n",
    "\n",
    "\n",
    "    ## add the results to the dataframe\n",
    "    ## fill the dataframe with 10 elements even if there are less than 10 in the previous list\n",
    "    required_for_dataframe = 10\n",
    "\n",
    "    ## pad the list with None until it has 10 elements\n",
    "    bertscore_top_10_substitutes += [None] * (required_for_dataframe - len(bertscore_top_10_substitutes))\n",
    "   \n",
    "\n",
    "\n",
    "    ## add the sentence, complex_word, and substitutes to the dataframe \n",
    "    substitutes_df.loc[index] = [sentence, complex_word] + bertscore_top_10_substitutes\n",
    "\n",
    "    #print('---------------------------------------------------------------------------------------------------------------------------------------------')\n",
    "   \n",
    "\n",
    "# export the dataframe to a tsv file for evaluation\n",
    "substitutes_df.to_csv(\"./predictions/test/BertBase_SG_MA_SS_bsElectra_k50.tsv\", sep=\"\\t\", index=False, header=False)   \n",
    "print(\"BertBase_SG_MA_SS_bsElectra_k50 exported to csv in path './predictions/test/BertBase_SG_MA_SS_bsElectra_k50.tsv'}\\n\")"
   ]
  },
  {
   "cell_type": "markdown",
   "id": "1bc3d02d-7977-46ee-a8fb-bad280b6c3fb",
   "metadata": {},
   "source": [
    "python tsar_eval.py --gold_file ./data/test/tsar2022_en_test_gold_no_noise.tsv --predictions_file ./predictions/test/BertBase_SG_MA_SS_bsElectra_k50.tsv --output_file ./output/test/BertBase_SG_MA_SS_bsElectra_k50.tsv"
   ]
  },
  {
   "cell_type": "raw",
   "id": "2f1aa1e5-cabf-4cc7-bdf7-d649f06e5fe1",
   "metadata": {},
   "source": [
    "MA_SS_bsElectra_k50.tsv\n",
    "=========   EVALUATION config.=========\n",
    "GOLD file = ./data/test/tsar2022_en_test_gold_no_noise.tsv\n",
    "PREDICTION LABELS file = ./predictions/test/BertBase_SG_MA_SS_bsElectra_k50.tsv\n",
    "OUTPUT file = ./output/test/BertBase_SG_MA_SS_bsElectra_k50.tsv\n",
    "===============   RESULTS  =============\n",
    "\n",
    "MAP@1/Potential@1/Precision@1 = 0.5107\n",
    "\n",
    "MAP@3 = 0.3623\n",
    "MAP@5 = 0.2735\n",
    "MAP@10 = 0.1689\n",
    "\n",
    "Potential@3 = 0.7661\n",
    "Potential@5 = 0.8629\n",
    "Potential@10 = 0.9274\n",
    "\n",
    "Accuracy@1@top_gold_1 = 0.2096\n",
    "Accuracy@2@top_gold_1 = 0.3037\n",
    "Accuracy@3@top_gold_1 = 0.4086\n",
    "\n",
    "\n",
    "\n",
    "(tensorflow_env) C:\\Users\\IrmaT\\Thesis\\My_code>"
   ]
  },
  {
   "cell_type": "markdown",
   "id": "ebd1d28c-20e9-4ad1-b0c3-15ca9d01b8ac",
   "metadata": {},
   "source": [
    "### Bertbase tested with bertscore of large models:"
   ]
  },
  {
   "cell_type": "markdown",
   "id": "a62d8f9c-3ab5-4f42-94ba-949bc2030874",
   "metadata": {},
   "source": [
    "#### Bertscore with Bertlarge:"
   ]
  },
  {
   "cell_type": "markdown",
   "id": "bb765b81-c719-4c54-aca7-a605dc469836",
   "metadata": {},
   "source": [
    "python tsar_eval.py --gold_file ./data/test/tsar2022_en_test_gold_no_noise.tsv --predictions_file ./predictions/test/BertBase_SG_MA_SS_bsBertLarge_k50.tsv --output_file ./output/test/BertBase_SG_MA_SS_bsBertLarge_k50.tsv"
   ]
  },
  {
   "cell_type": "raw",
   "id": "66dff5b2-380b-4606-ae8f-4f9d8484ab18",
   "metadata": {},
   "source": [
    "G_MA_SS_bsBertLarge_k50.tsv\n",
    "=========   EVALUATION config.=========\n",
    "GOLD file = ./data/test/tsar2022_en_test_gold_no_noise.tsv\n",
    "PREDICTION LABELS file = ./predictions/test/BertBase_SG_MA_SS_bsBertLarge_k50.tsv\n",
    "OUTPUT file = ./output/test/BertBase_SG_MA_SS_bsBertLarge_k50.tsv\n",
    "===============   RESULTS  =============\n",
    "\n",
    "MAP@1/Potential@1/Precision@1 = 0.6075\n",
    "\n",
    "MAP@3 = 0.4201\n",
    "MAP@5 = 0.3088\n",
    "MAP@10 = 0.1909\n",
    "\n",
    "Potential@3 = 0.8548\n",
    "Potential@5 = 0.9086\n",
    "Potential@10 = 0.9489\n",
    "\n",
    "Accuracy@1@top_gold_1 = 0.25\n",
    "Accuracy@2@top_gold_1 = 0.3709\n",
    "Accuracy@3@top_gold_1 = 0.4758"
   ]
  },
  {
   "cell_type": "markdown",
   "id": "eff6c503-69ef-4350-8b95-d62e85835c38",
   "metadata": {},
   "source": [
    "#### Bertscore with Electralarge:"
   ]
  },
  {
   "cell_type": "markdown",
   "id": "45a6f64f-3983-4c6e-9345-2220c39266c0",
   "metadata": {},
   "source": [
    "python tsar_eval.py --gold_file ./data/test/tsar2022_en_test_gold_no_noise.tsv --predictions_file ./predictions/test/BertBase_SG_MA_SS_bsElectraLarge_k50.tsv --output_file ./output/test/BertBase_SG_MA_SS_bsElectraLarge_k50.tsv"
   ]
  },
  {
   "cell_type": "raw",
   "id": "82fe0df7-9aef-4a41-a6f5-03ab950bd7d6",
   "metadata": {},
   "source": [
    "lectraLarge_k50.tsv\n",
    "=========   EVALUATION config.=========\n",
    "GOLD file = ./data/test/tsar2022_en_test_gold_no_noise.tsv\n",
    "PREDICTION LABELS file = ./predictions/test/BertBase_SG_MA_SS_bsElectraLarge_k50.tsv\n",
    "OUTPUT file = ./output/test/BertBase_SG_MA_SS_bsElectraLarge_k50.tsv\n",
    "===============   RESULTS  =============\n",
    "\n",
    "MAP@1/Potential@1/Precision@1 = 0.5537\n",
    "\n",
    "MAP@3 = 0.3703\n",
    "MAP@5 = 0.2812\n",
    "MAP@10 = 0.175\n",
    "\n",
    "Potential@3 = 0.8145\n",
    "Potential@5 = 0.8709\n",
    "Potential@10 = 0.9462\n",
    "\n",
    "Accuracy@1@top_gold_1 = 0.2231\n",
    "Accuracy@2@top_gold_1 = 0.3413\n",
    "Accuracy@3@top_gold_1 = 0.4327"
   ]
  },
  {
   "cell_type": "markdown",
   "id": "286fabe0-4d65-4d9b-b914-00226548b5ab",
   "metadata": {},
   "source": [
    "#### Bertscore with Robertalarge:"
   ]
  },
  {
   "cell_type": "markdown",
   "id": "526e69c0-329a-4349-ac5a-0ab52d064fdb",
   "metadata": {},
   "source": [
    "python tsar_eval.py --gold_file ./data/test/tsar2022_en_test_gold_no_noise.tsv --predictions_file ./predictions/test/BertBase_SG_MA_SS_bsRobertaLarge_k50.tsv --output_file ./output/test/BertBase_SG_MA_SS_bsRobertaLarge_k50.tsv"
   ]
  },
  {
   "cell_type": "raw",
   "id": "383a796f-7656-4f25-8c61-486be589b7a2",
   "metadata": {},
   "source": [
    "e.tsv --predictions_file ./predictions/test/BertBase_SG_MA_SS_bsRobertaLarge_k50.tsv --output_file ./output/test/BertBase_SG_MA_SS_bsRobertaLarge_k50.tsv\n",
    "=========   EVALUATION config.=========\n",
    "GOLD file = ./data/test/tsar2022_en_test_gold_no_noise.tsv\n",
    "PREDICTION LABELS file = ./predictions/test/BertBase_SG_MA_SS_bsRobertaLarge_k50.tsv\n",
    "OUTPUT file = ./output/test/BertBase_SG_MA_SS_bsRobertaLarge_k50.tsv\n",
    "===============   RESULTS  =============\n",
    "\n",
    "MAP@1/Potential@1/Precision@1 = 0.6102\n",
    "\n",
    "MAP@3 = 0.4251\n",
    "MAP@5 = 0.3208\n",
    "MAP@10 = 0.1983\n",
    "\n",
    "Potential@3 = 0.8279\n",
    "Potential@5 = 0.9059\n",
    "Potential@10 = 0.9462\n",
    "\n",
    "Accuracy@1@top_gold_1 = 0.2661\n",
    "Accuracy@2@top_gold_1 = 0.4301\n",
    "Accuracy@3@top_gold_1 = 0.4919"
   ]
  }
 ],
 "metadata": {
  "kernelspec": {
   "display_name": "tensorflow_env",
   "language": "python",
   "name": "tensorflow_env"
  },
  "language_info": {
   "codemirror_mode": {
    "name": "ipython",
    "version": 3
   },
   "file_extension": ".py",
   "mimetype": "text/x-python",
   "name": "python",
   "nbconvert_exporter": "python",
   "pygments_lexer": "ipython3",
   "version": "3.8.16"
  }
 },
 "nbformat": 4,
 "nbformat_minor": 5
}
