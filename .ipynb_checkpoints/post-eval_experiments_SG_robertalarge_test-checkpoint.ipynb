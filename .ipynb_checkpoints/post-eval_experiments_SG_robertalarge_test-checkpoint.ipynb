{
 "cells": [
  {
   "cell_type": "markdown",
   "metadata": {},
   "source": [
    "## Post-evaluation on the test set for the SG step.  \n",
    "This notebook corresponds to the post-evaluation results with robertalarge for the SG step, presented in section 5.5 of my thesis, for the best model before post-evaluation. "
   ]
  },
  {
   "cell_type": "code",
   "execution_count": 1,
   "metadata": {},
   "outputs": [],
   "source": [
    "from utils_test import *"
   ]
  },
  {
   "cell_type": "markdown",
   "metadata": {},
   "source": [
    "### model 'roberta-base' during SG step is changed into 'roberta-large':"
   ]
  },
  {
   "cell_type": "code",
   "execution_count": 2,
   "metadata": {
    "ExecuteTime": {
     "end_time": "2023-06-15T16:49:40.922645Z",
     "start_time": "2023-06-15T16:49:36.941069Z"
    },
    "collapsed": false,
    "jupyter": {
     "outputs_hidden": false
    }
   },
   "outputs": [],
   "source": [
    "data, substitutes_df = get_data_and_create_empty_df()\n",
    "\n",
    "model = 'roberta-large'\n",
    "model_name_str = get_str_for_file_name(model)\n",
    "\n",
    "nlp, lm_tokenizer, lm_model, fill_mask = instantiate_spacy_tokenizer_model_pipeline(model)"
   ]
  },
  {
   "cell_type": "code",
   "execution_count": null,
   "metadata": {
    "ExecuteTime": {
     "end_time": "2023-06-15T16:43:31.775415Z",
     "start_time": "2023-06-15T16:41:54.888416Z"
    },
    "collapsed": false,
    "jupyter": {
     "outputs_hidden": false
    }
   },
   "outputs": [],
   "source": [
    "# Option 3f: Bertscore with robertalarge:\n",
    "score_model = 'roberta-large'\n",
    "letter = 'f'\n",
    "substitutes_df, score_model_name_str = substitute_selection_phase_2_option_3(data, substitutes_df, lm_tokenizer, fill_mask, model_name_str, nlp, score_model, letter)"
   ]
  },
  {
   "cell_type": "markdown",
   "metadata": {
    "jupyter": {
     "outputs_hidden": false
    }
   },
   "source": [
    "python tsar_eval.py --gold_file ./data/test/tsar2022_en_test_gold_no_noise.tsv --predictions_file ./predictions/test/SS_phase2_option3f_BSrobertalarge_robertalarge.tsv --output_file ./output/test/SS_phase2_option3f_BSrobertalarge_robertalarge.tsv"
   ]
  },
  {
   "cell_type": "raw",
   "metadata": {
    "ExecuteTime": {
     "end_time": "2023-06-15T16:43:31.786415Z",
     "start_time": "2023-06-15T16:43:31.775415Z"
    },
    "jupyter": {
     "outputs_hidden": false
    }
   },
   "source": [
    "=========   EVALUATION config.=========\n",
    "GOLD file = ./data/test/tsar2022_en_test_gold_no_noise.tsv\n",
    "PREDICTION LABELS file = ./predictions/test/SS_phase2_option3f_BSrobertalarge_robertalarge.tsv\n",
    "OUTPUT file = ./output/test/SS_phase2_option3f_BSrobertalarge_robertalarge.tsv\n",
    "===============   RESULTS  =============\n",
    "\n",
    "MAP@1/Potential@1/Precision@1 = 0.6021\n",
    "\n",
    "MAP@3 = 0.4259\n",
    "MAP@5 = 0.3124\n",
    "MAP@10 = 0.1881\n",
    "\n",
    "Potential@3 = 0.8333\n",
    "Potential@5 = 0.8951\n",
    "Potential@10 = 0.9408\n",
    "\n",
    "Accuracy@1@top_gold_1 = 0.2661\n",
    "Accuracy@2@top_gold_1 = 0.4005\n",
    "Accuracy@3@top_gold_1 = 0.4758\n",
    "\n"
   ]
  },
  {
   "cell_type": "markdown",
   "metadata": {},
   "source": [
    "#### Results:\n",
    "\n",
    "This post-evaluated model scores 0.6021 on ACC@1, which is reported in section 5.5 of the thesis. Based on this metric, the model is a bit inferior to the model that used roberta-base for the SG step (SS_phase2_option3f_BSrobertalarge_robertabase (ACC@1 score: 0.6263; specified in thesis in tables 5.1 and 5.2 in sections 5.1 and 5.2; model name in thesis: RB_BSrl)."
   ]
  }
 ],
 "metadata": {
  "kernelspec": {
   "display_name": "tensorflow_env",
   "language": "python",
   "name": "tensorflow_env"
  },
  "language_info": {
   "codemirror_mode": {
    "name": "ipython",
    "version": 3
   },
   "file_extension": ".py",
   "mimetype": "text/x-python",
   "name": "python",
   "nbconvert_exporter": "python",
   "pygments_lexer": "ipython3",
   "version": "3.8.16"
  }
 },
 "nbformat": 4,
 "nbformat_minor": 4
}
